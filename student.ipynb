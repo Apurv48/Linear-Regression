{
 "cells": [
  {
   "cell_type": "code",
   "execution_count": 4,
   "metadata": {
    "_cell_guid": "b1076dfc-b9ad-4769-8c92-a6c4dae69d19",
    "_uuid": "8f2839f25d086af736a60e9eeb907d3b93b6e0e5",
    "execution": {
     "iopub.execute_input": "2024-12-23T20:02:06.550424Z",
     "iopub.status.busy": "2024-12-23T20:02:06.549953Z",
     "iopub.status.idle": "2024-12-23T20:02:07.326310Z",
     "shell.execute_reply": "2024-12-23T20:02:07.325298Z",
     "shell.execute_reply.started": "2024-12-23T20:02:06.550382Z"
    },
    "trusted": true
   },
   "outputs": [
    {
     "ename": "ModuleNotFoundError",
     "evalue": "No module named 'numpy'",
     "output_type": "error",
     "traceback": [
      "\u001b[1;31m---------------------------------------------------------------------------\u001b[0m",
      "\u001b[1;31mModuleNotFoundError\u001b[0m                       Traceback (most recent call last)",
      "Cell \u001b[1;32mIn[4], line 5\u001b[0m\n\u001b[0;32m      1\u001b[0m \u001b[38;5;66;03m# This Python 3 environment comes with many helpful analytics libraries installed\u001b[39;00m\n\u001b[0;32m      2\u001b[0m \u001b[38;5;66;03m# It is defined by the kaggle/python Docker image: https://github.com/kaggle/docker-python\u001b[39;00m\n\u001b[0;32m      3\u001b[0m \u001b[38;5;66;03m# For example, here's several helpful packages to load\u001b[39;00m\n\u001b[1;32m----> 5\u001b[0m \u001b[38;5;28;01mimport\u001b[39;00m \u001b[38;5;21;01mnumpy\u001b[39;00m \u001b[38;5;28;01mas\u001b[39;00m \u001b[38;5;21;01mnp\u001b[39;00m \u001b[38;5;66;03m# linear algebra\u001b[39;00m\n\u001b[0;32m      6\u001b[0m \u001b[38;5;28;01mimport\u001b[39;00m \u001b[38;5;21;01mpandas\u001b[39;00m \u001b[38;5;28;01mas\u001b[39;00m \u001b[38;5;21;01mpd\u001b[39;00m \u001b[38;5;66;03m# data processing, CSV file I/O (e.g. pd.read_csv)\u001b[39;00m\n\u001b[0;32m      7\u001b[0m \u001b[38;5;28;01mimport\u001b[39;00m \u001b[38;5;21;01mseaborn\u001b[39;00m \u001b[38;5;28;01mas\u001b[39;00m \u001b[38;5;21;01msns\u001b[39;00m\n",
      "\u001b[1;31mModuleNotFoundError\u001b[0m: No module named 'numpy'"
     ]
    }
   ],
   "source": [
    "# This Python 3 environment comes with many helpful analytics libraries installed\n",
    "# It is defined by the kaggle/python Docker image: https://github.com/kaggle/docker-python\n",
    "# For example, here's several helpful packages to load\n",
    "\n",
    "import numpy as np # linear algebra\n",
    "import pandas as pd # data processing, CSV file I/O (e.g. pd.read_csv)\n",
    "import seaborn as sns\n",
    "import matplotlib.pyplot as plt\n",
    "# Input data files are available in the read-only \"../input/\" directory\n",
    "# For example, running this (by clicking run or pressing Shift+Enter) will list all files under the input directory\n",
    "\n",
    "import os\n",
    "for dirname, _, filenames in os.walk('/kaggle/input'):\n",
    "    for filename in filenames:\n",
    "        print(os.path.join(dirname, filename))\n",
    "\n",
    "# You can write up to 20GB to the current directory (/kaggle/working/) that gets preserved as output when you create a version using \"Save & Run All\" \n",
    "# You can also write temporary files to /kaggle/temp/, but they won't be saved outside of the current session"
   ]
  },
  {
   "cell_type": "code",
   "execution_count": 3,
   "metadata": {
    "execution": {
     "iopub.execute_input": "2024-12-23T20:02:07.328172Z",
     "iopub.status.busy": "2024-12-23T20:02:07.327751Z",
     "iopub.status.idle": "2024-12-23T20:02:07.375945Z",
     "shell.execute_reply": "2024-12-23T20:02:07.374850Z",
     "shell.execute_reply.started": "2024-12-23T20:02:07.328144Z"
    },
    "trusted": true
   },
   "outputs": [
    {
     "data": {
      "text/html": [
       "<div>\n",
       "<style scoped>\n",
       "    .dataframe tbody tr th:only-of-type {\n",
       "        vertical-align: middle;\n",
       "    }\n",
       "\n",
       "    .dataframe tbody tr th {\n",
       "        vertical-align: top;\n",
       "    }\n",
       "\n",
       "    .dataframe thead th {\n",
       "        text-align: right;\n",
       "    }\n",
       "</style>\n",
       "<table border=\"1\" class=\"dataframe\">\n",
       "  <thead>\n",
       "    <tr style=\"text-align: right;\">\n",
       "      <th></th>\n",
       "      <th>school</th>\n",
       "      <th>sex</th>\n",
       "      <th>age</th>\n",
       "      <th>address</th>\n",
       "      <th>famsize</th>\n",
       "      <th>Pstatus</th>\n",
       "      <th>Medu</th>\n",
       "      <th>Fedu</th>\n",
       "      <th>Mjob</th>\n",
       "      <th>Fjob</th>\n",
       "      <th>...</th>\n",
       "      <th>famrel</th>\n",
       "      <th>freetime</th>\n",
       "      <th>goout</th>\n",
       "      <th>Dalc</th>\n",
       "      <th>Walc</th>\n",
       "      <th>health</th>\n",
       "      <th>absences</th>\n",
       "      <th>G1</th>\n",
       "      <th>G2</th>\n",
       "      <th>G3</th>\n",
       "    </tr>\n",
       "  </thead>\n",
       "  <tbody>\n",
       "    <tr>\n",
       "      <th>0</th>\n",
       "      <td>GP</td>\n",
       "      <td>F</td>\n",
       "      <td>18</td>\n",
       "      <td>U</td>\n",
       "      <td>GT3</td>\n",
       "      <td>A</td>\n",
       "      <td>4</td>\n",
       "      <td>4</td>\n",
       "      <td>at_home</td>\n",
       "      <td>teacher</td>\n",
       "      <td>...</td>\n",
       "      <td>4</td>\n",
       "      <td>3</td>\n",
       "      <td>4</td>\n",
       "      <td>1</td>\n",
       "      <td>1</td>\n",
       "      <td>3</td>\n",
       "      <td>6</td>\n",
       "      <td>5</td>\n",
       "      <td>6</td>\n",
       "      <td>6</td>\n",
       "    </tr>\n",
       "    <tr>\n",
       "      <th>1</th>\n",
       "      <td>GP</td>\n",
       "      <td>F</td>\n",
       "      <td>17</td>\n",
       "      <td>U</td>\n",
       "      <td>GT3</td>\n",
       "      <td>T</td>\n",
       "      <td>1</td>\n",
       "      <td>1</td>\n",
       "      <td>at_home</td>\n",
       "      <td>other</td>\n",
       "      <td>...</td>\n",
       "      <td>5</td>\n",
       "      <td>3</td>\n",
       "      <td>3</td>\n",
       "      <td>1</td>\n",
       "      <td>1</td>\n",
       "      <td>3</td>\n",
       "      <td>4</td>\n",
       "      <td>5</td>\n",
       "      <td>5</td>\n",
       "      <td>6</td>\n",
       "    </tr>\n",
       "    <tr>\n",
       "      <th>2</th>\n",
       "      <td>GP</td>\n",
       "      <td>F</td>\n",
       "      <td>15</td>\n",
       "      <td>U</td>\n",
       "      <td>LE3</td>\n",
       "      <td>T</td>\n",
       "      <td>1</td>\n",
       "      <td>1</td>\n",
       "      <td>at_home</td>\n",
       "      <td>other</td>\n",
       "      <td>...</td>\n",
       "      <td>4</td>\n",
       "      <td>3</td>\n",
       "      <td>2</td>\n",
       "      <td>2</td>\n",
       "      <td>3</td>\n",
       "      <td>3</td>\n",
       "      <td>10</td>\n",
       "      <td>7</td>\n",
       "      <td>8</td>\n",
       "      <td>10</td>\n",
       "    </tr>\n",
       "    <tr>\n",
       "      <th>3</th>\n",
       "      <td>GP</td>\n",
       "      <td>F</td>\n",
       "      <td>15</td>\n",
       "      <td>U</td>\n",
       "      <td>GT3</td>\n",
       "      <td>T</td>\n",
       "      <td>4</td>\n",
       "      <td>2</td>\n",
       "      <td>health</td>\n",
       "      <td>services</td>\n",
       "      <td>...</td>\n",
       "      <td>3</td>\n",
       "      <td>2</td>\n",
       "      <td>2</td>\n",
       "      <td>1</td>\n",
       "      <td>1</td>\n",
       "      <td>5</td>\n",
       "      <td>2</td>\n",
       "      <td>15</td>\n",
       "      <td>14</td>\n",
       "      <td>15</td>\n",
       "    </tr>\n",
       "    <tr>\n",
       "      <th>4</th>\n",
       "      <td>GP</td>\n",
       "      <td>F</td>\n",
       "      <td>16</td>\n",
       "      <td>U</td>\n",
       "      <td>GT3</td>\n",
       "      <td>T</td>\n",
       "      <td>3</td>\n",
       "      <td>3</td>\n",
       "      <td>other</td>\n",
       "      <td>other</td>\n",
       "      <td>...</td>\n",
       "      <td>4</td>\n",
       "      <td>3</td>\n",
       "      <td>2</td>\n",
       "      <td>1</td>\n",
       "      <td>2</td>\n",
       "      <td>5</td>\n",
       "      <td>4</td>\n",
       "      <td>6</td>\n",
       "      <td>10</td>\n",
       "      <td>10</td>\n",
       "    </tr>\n",
       "    <tr>\n",
       "      <th>...</th>\n",
       "      <td>...</td>\n",
       "      <td>...</td>\n",
       "      <td>...</td>\n",
       "      <td>...</td>\n",
       "      <td>...</td>\n",
       "      <td>...</td>\n",
       "      <td>...</td>\n",
       "      <td>...</td>\n",
       "      <td>...</td>\n",
       "      <td>...</td>\n",
       "      <td>...</td>\n",
       "      <td>...</td>\n",
       "      <td>...</td>\n",
       "      <td>...</td>\n",
       "      <td>...</td>\n",
       "      <td>...</td>\n",
       "      <td>...</td>\n",
       "      <td>...</td>\n",
       "      <td>...</td>\n",
       "      <td>...</td>\n",
       "      <td>...</td>\n",
       "    </tr>\n",
       "    <tr>\n",
       "      <th>390</th>\n",
       "      <td>MS</td>\n",
       "      <td>M</td>\n",
       "      <td>20</td>\n",
       "      <td>U</td>\n",
       "      <td>LE3</td>\n",
       "      <td>A</td>\n",
       "      <td>2</td>\n",
       "      <td>2</td>\n",
       "      <td>services</td>\n",
       "      <td>services</td>\n",
       "      <td>...</td>\n",
       "      <td>5</td>\n",
       "      <td>5</td>\n",
       "      <td>4</td>\n",
       "      <td>4</td>\n",
       "      <td>5</td>\n",
       "      <td>4</td>\n",
       "      <td>11</td>\n",
       "      <td>9</td>\n",
       "      <td>9</td>\n",
       "      <td>9</td>\n",
       "    </tr>\n",
       "    <tr>\n",
       "      <th>391</th>\n",
       "      <td>MS</td>\n",
       "      <td>M</td>\n",
       "      <td>17</td>\n",
       "      <td>U</td>\n",
       "      <td>LE3</td>\n",
       "      <td>T</td>\n",
       "      <td>3</td>\n",
       "      <td>1</td>\n",
       "      <td>services</td>\n",
       "      <td>services</td>\n",
       "      <td>...</td>\n",
       "      <td>2</td>\n",
       "      <td>4</td>\n",
       "      <td>5</td>\n",
       "      <td>3</td>\n",
       "      <td>4</td>\n",
       "      <td>2</td>\n",
       "      <td>3</td>\n",
       "      <td>14</td>\n",
       "      <td>16</td>\n",
       "      <td>16</td>\n",
       "    </tr>\n",
       "    <tr>\n",
       "      <th>392</th>\n",
       "      <td>MS</td>\n",
       "      <td>M</td>\n",
       "      <td>21</td>\n",
       "      <td>R</td>\n",
       "      <td>GT3</td>\n",
       "      <td>T</td>\n",
       "      <td>1</td>\n",
       "      <td>1</td>\n",
       "      <td>other</td>\n",
       "      <td>other</td>\n",
       "      <td>...</td>\n",
       "      <td>5</td>\n",
       "      <td>5</td>\n",
       "      <td>3</td>\n",
       "      <td>3</td>\n",
       "      <td>3</td>\n",
       "      <td>3</td>\n",
       "      <td>3</td>\n",
       "      <td>10</td>\n",
       "      <td>8</td>\n",
       "      <td>7</td>\n",
       "    </tr>\n",
       "    <tr>\n",
       "      <th>393</th>\n",
       "      <td>MS</td>\n",
       "      <td>M</td>\n",
       "      <td>18</td>\n",
       "      <td>R</td>\n",
       "      <td>LE3</td>\n",
       "      <td>T</td>\n",
       "      <td>3</td>\n",
       "      <td>2</td>\n",
       "      <td>services</td>\n",
       "      <td>other</td>\n",
       "      <td>...</td>\n",
       "      <td>4</td>\n",
       "      <td>4</td>\n",
       "      <td>1</td>\n",
       "      <td>3</td>\n",
       "      <td>4</td>\n",
       "      <td>5</td>\n",
       "      <td>0</td>\n",
       "      <td>11</td>\n",
       "      <td>12</td>\n",
       "      <td>10</td>\n",
       "    </tr>\n",
       "    <tr>\n",
       "      <th>394</th>\n",
       "      <td>MS</td>\n",
       "      <td>M</td>\n",
       "      <td>19</td>\n",
       "      <td>U</td>\n",
       "      <td>LE3</td>\n",
       "      <td>T</td>\n",
       "      <td>1</td>\n",
       "      <td>1</td>\n",
       "      <td>other</td>\n",
       "      <td>at_home</td>\n",
       "      <td>...</td>\n",
       "      <td>3</td>\n",
       "      <td>2</td>\n",
       "      <td>3</td>\n",
       "      <td>3</td>\n",
       "      <td>3</td>\n",
       "      <td>5</td>\n",
       "      <td>5</td>\n",
       "      <td>8</td>\n",
       "      <td>9</td>\n",
       "      <td>9</td>\n",
       "    </tr>\n",
       "  </tbody>\n",
       "</table>\n",
       "<p>395 rows × 33 columns</p>\n",
       "</div>"
      ],
      "text/plain": [
       "    school sex  age address famsize Pstatus  Medu  Fedu      Mjob      Fjob  \\\n",
       "0       GP   F   18       U     GT3       A     4     4   at_home   teacher   \n",
       "1       GP   F   17       U     GT3       T     1     1   at_home     other   \n",
       "2       GP   F   15       U     LE3       T     1     1   at_home     other   \n",
       "3       GP   F   15       U     GT3       T     4     2    health  services   \n",
       "4       GP   F   16       U     GT3       T     3     3     other     other   \n",
       "..     ...  ..  ...     ...     ...     ...   ...   ...       ...       ...   \n",
       "390     MS   M   20       U     LE3       A     2     2  services  services   \n",
       "391     MS   M   17       U     LE3       T     3     1  services  services   \n",
       "392     MS   M   21       R     GT3       T     1     1     other     other   \n",
       "393     MS   M   18       R     LE3       T     3     2  services     other   \n",
       "394     MS   M   19       U     LE3       T     1     1     other   at_home   \n",
       "\n",
       "     ... famrel freetime  goout  Dalc  Walc health absences  G1  G2  G3  \n",
       "0    ...      4        3      4     1     1      3        6   5   6   6  \n",
       "1    ...      5        3      3     1     1      3        4   5   5   6  \n",
       "2    ...      4        3      2     2     3      3       10   7   8  10  \n",
       "3    ...      3        2      2     1     1      5        2  15  14  15  \n",
       "4    ...      4        3      2     1     2      5        4   6  10  10  \n",
       "..   ...    ...      ...    ...   ...   ...    ...      ...  ..  ..  ..  \n",
       "390  ...      5        5      4     4     5      4       11   9   9   9  \n",
       "391  ...      2        4      5     3     4      2        3  14  16  16  \n",
       "392  ...      5        5      3     3     3      3        3  10   8   7  \n",
       "393  ...      4        4      1     3     4      5        0  11  12  10  \n",
       "394  ...      3        2      3     3     3      5        5   8   9   9  \n",
       "\n",
       "[395 rows x 33 columns]"
      ]
     },
     "execution_count": 3,
     "metadata": {},
     "output_type": "execute_result"
    }
   ],
   "source": [
    "data = pd.read_csv(\"/kaggle/input/student-performance-data/student_data.csv\")\n",
    "data"
   ]
  },
  {
   "cell_type": "code",
   "execution_count": 4,
   "metadata": {
    "execution": {
     "iopub.execute_input": "2024-12-23T20:02:07.378317Z",
     "iopub.status.busy": "2024-12-23T20:02:07.377993Z",
     "iopub.status.idle": "2024-12-23T20:02:07.400338Z",
     "shell.execute_reply": "2024-12-23T20:02:07.399341Z",
     "shell.execute_reply.started": "2024-12-23T20:02:07.378262Z"
    },
    "trusted": true
   },
   "outputs": [
    {
     "name": "stdout",
     "output_type": "stream",
     "text": [
      "<class 'pandas.core.frame.DataFrame'>\n",
      "RangeIndex: 395 entries, 0 to 394\n",
      "Data columns (total 33 columns):\n",
      " #   Column      Non-Null Count  Dtype \n",
      "---  ------      --------------  ----- \n",
      " 0   school      395 non-null    object\n",
      " 1   sex         395 non-null    object\n",
      " 2   age         395 non-null    int64 \n",
      " 3   address     395 non-null    object\n",
      " 4   famsize     395 non-null    object\n",
      " 5   Pstatus     395 non-null    object\n",
      " 6   Medu        395 non-null    int64 \n",
      " 7   Fedu        395 non-null    int64 \n",
      " 8   Mjob        395 non-null    object\n",
      " 9   Fjob        395 non-null    object\n",
      " 10  reason      395 non-null    object\n",
      " 11  guardian    395 non-null    object\n",
      " 12  traveltime  395 non-null    int64 \n",
      " 13  studytime   395 non-null    int64 \n",
      " 14  failures    395 non-null    int64 \n",
      " 15  schoolsup   395 non-null    object\n",
      " 16  famsup      395 non-null    object\n",
      " 17  paid        395 non-null    object\n",
      " 18  activities  395 non-null    object\n",
      " 19  nursery     395 non-null    object\n",
      " 20  higher      395 non-null    object\n",
      " 21  internet    395 non-null    object\n",
      " 22  romantic    395 non-null    object\n",
      " 23  famrel      395 non-null    int64 \n",
      " 24  freetime    395 non-null    int64 \n",
      " 25  goout       395 non-null    int64 \n",
      " 26  Dalc        395 non-null    int64 \n",
      " 27  Walc        395 non-null    int64 \n",
      " 28  health      395 non-null    int64 \n",
      " 29  absences    395 non-null    int64 \n",
      " 30  G1          395 non-null    int64 \n",
      " 31  G2          395 non-null    int64 \n",
      " 32  G3          395 non-null    int64 \n",
      "dtypes: int64(16), object(17)\n",
      "memory usage: 102.0+ KB\n"
     ]
    }
   ],
   "source": [
    "data.info()"
   ]
  },
  {
   "cell_type": "code",
   "execution_count": 5,
   "metadata": {
    "execution": {
     "iopub.execute_input": "2024-12-23T20:02:07.402368Z",
     "iopub.status.busy": "2024-12-23T20:02:07.401987Z",
     "iopub.status.idle": "2024-12-23T20:02:07.451017Z",
     "shell.execute_reply": "2024-12-23T20:02:07.449941Z",
     "shell.execute_reply.started": "2024-12-23T20:02:07.402332Z"
    },
    "trusted": true
   },
   "outputs": [
    {
     "data": {
      "text/html": [
       "<div>\n",
       "<style scoped>\n",
       "    .dataframe tbody tr th:only-of-type {\n",
       "        vertical-align: middle;\n",
       "    }\n",
       "\n",
       "    .dataframe tbody tr th {\n",
       "        vertical-align: top;\n",
       "    }\n",
       "\n",
       "    .dataframe thead th {\n",
       "        text-align: right;\n",
       "    }\n",
       "</style>\n",
       "<table border=\"1\" class=\"dataframe\">\n",
       "  <thead>\n",
       "    <tr style=\"text-align: right;\">\n",
       "      <th></th>\n",
       "      <th>age</th>\n",
       "      <th>Medu</th>\n",
       "      <th>Fedu</th>\n",
       "      <th>traveltime</th>\n",
       "      <th>studytime</th>\n",
       "      <th>failures</th>\n",
       "      <th>famrel</th>\n",
       "      <th>freetime</th>\n",
       "      <th>goout</th>\n",
       "      <th>Dalc</th>\n",
       "      <th>Walc</th>\n",
       "      <th>health</th>\n",
       "      <th>absences</th>\n",
       "      <th>G1</th>\n",
       "      <th>G2</th>\n",
       "      <th>G3</th>\n",
       "    </tr>\n",
       "  </thead>\n",
       "  <tbody>\n",
       "    <tr>\n",
       "      <th>count</th>\n",
       "      <td>395.000000</td>\n",
       "      <td>395.000000</td>\n",
       "      <td>395.000000</td>\n",
       "      <td>395.000000</td>\n",
       "      <td>395.000000</td>\n",
       "      <td>395.000000</td>\n",
       "      <td>395.000000</td>\n",
       "      <td>395.000000</td>\n",
       "      <td>395.000000</td>\n",
       "      <td>395.000000</td>\n",
       "      <td>395.000000</td>\n",
       "      <td>395.000000</td>\n",
       "      <td>395.000000</td>\n",
       "      <td>395.000000</td>\n",
       "      <td>395.000000</td>\n",
       "      <td>395.000000</td>\n",
       "    </tr>\n",
       "    <tr>\n",
       "      <th>mean</th>\n",
       "      <td>16.696203</td>\n",
       "      <td>2.749367</td>\n",
       "      <td>2.521519</td>\n",
       "      <td>1.448101</td>\n",
       "      <td>2.035443</td>\n",
       "      <td>0.334177</td>\n",
       "      <td>3.944304</td>\n",
       "      <td>3.235443</td>\n",
       "      <td>3.108861</td>\n",
       "      <td>1.481013</td>\n",
       "      <td>2.291139</td>\n",
       "      <td>3.554430</td>\n",
       "      <td>5.708861</td>\n",
       "      <td>10.908861</td>\n",
       "      <td>10.713924</td>\n",
       "      <td>10.415190</td>\n",
       "    </tr>\n",
       "    <tr>\n",
       "      <th>std</th>\n",
       "      <td>1.276043</td>\n",
       "      <td>1.094735</td>\n",
       "      <td>1.088201</td>\n",
       "      <td>0.697505</td>\n",
       "      <td>0.839240</td>\n",
       "      <td>0.743651</td>\n",
       "      <td>0.896659</td>\n",
       "      <td>0.998862</td>\n",
       "      <td>1.113278</td>\n",
       "      <td>0.890741</td>\n",
       "      <td>1.287897</td>\n",
       "      <td>1.390303</td>\n",
       "      <td>8.003096</td>\n",
       "      <td>3.319195</td>\n",
       "      <td>3.761505</td>\n",
       "      <td>4.581443</td>\n",
       "    </tr>\n",
       "    <tr>\n",
       "      <th>min</th>\n",
       "      <td>15.000000</td>\n",
       "      <td>0.000000</td>\n",
       "      <td>0.000000</td>\n",
       "      <td>1.000000</td>\n",
       "      <td>1.000000</td>\n",
       "      <td>0.000000</td>\n",
       "      <td>1.000000</td>\n",
       "      <td>1.000000</td>\n",
       "      <td>1.000000</td>\n",
       "      <td>1.000000</td>\n",
       "      <td>1.000000</td>\n",
       "      <td>1.000000</td>\n",
       "      <td>0.000000</td>\n",
       "      <td>3.000000</td>\n",
       "      <td>0.000000</td>\n",
       "      <td>0.000000</td>\n",
       "    </tr>\n",
       "    <tr>\n",
       "      <th>25%</th>\n",
       "      <td>16.000000</td>\n",
       "      <td>2.000000</td>\n",
       "      <td>2.000000</td>\n",
       "      <td>1.000000</td>\n",
       "      <td>1.000000</td>\n",
       "      <td>0.000000</td>\n",
       "      <td>4.000000</td>\n",
       "      <td>3.000000</td>\n",
       "      <td>2.000000</td>\n",
       "      <td>1.000000</td>\n",
       "      <td>1.000000</td>\n",
       "      <td>3.000000</td>\n",
       "      <td>0.000000</td>\n",
       "      <td>8.000000</td>\n",
       "      <td>9.000000</td>\n",
       "      <td>8.000000</td>\n",
       "    </tr>\n",
       "    <tr>\n",
       "      <th>50%</th>\n",
       "      <td>17.000000</td>\n",
       "      <td>3.000000</td>\n",
       "      <td>2.000000</td>\n",
       "      <td>1.000000</td>\n",
       "      <td>2.000000</td>\n",
       "      <td>0.000000</td>\n",
       "      <td>4.000000</td>\n",
       "      <td>3.000000</td>\n",
       "      <td>3.000000</td>\n",
       "      <td>1.000000</td>\n",
       "      <td>2.000000</td>\n",
       "      <td>4.000000</td>\n",
       "      <td>4.000000</td>\n",
       "      <td>11.000000</td>\n",
       "      <td>11.000000</td>\n",
       "      <td>11.000000</td>\n",
       "    </tr>\n",
       "    <tr>\n",
       "      <th>75%</th>\n",
       "      <td>18.000000</td>\n",
       "      <td>4.000000</td>\n",
       "      <td>3.000000</td>\n",
       "      <td>2.000000</td>\n",
       "      <td>2.000000</td>\n",
       "      <td>0.000000</td>\n",
       "      <td>5.000000</td>\n",
       "      <td>4.000000</td>\n",
       "      <td>4.000000</td>\n",
       "      <td>2.000000</td>\n",
       "      <td>3.000000</td>\n",
       "      <td>5.000000</td>\n",
       "      <td>8.000000</td>\n",
       "      <td>13.000000</td>\n",
       "      <td>13.000000</td>\n",
       "      <td>14.000000</td>\n",
       "    </tr>\n",
       "    <tr>\n",
       "      <th>max</th>\n",
       "      <td>22.000000</td>\n",
       "      <td>4.000000</td>\n",
       "      <td>4.000000</td>\n",
       "      <td>4.000000</td>\n",
       "      <td>4.000000</td>\n",
       "      <td>3.000000</td>\n",
       "      <td>5.000000</td>\n",
       "      <td>5.000000</td>\n",
       "      <td>5.000000</td>\n",
       "      <td>5.000000</td>\n",
       "      <td>5.000000</td>\n",
       "      <td>5.000000</td>\n",
       "      <td>75.000000</td>\n",
       "      <td>19.000000</td>\n",
       "      <td>19.000000</td>\n",
       "      <td>20.000000</td>\n",
       "    </tr>\n",
       "  </tbody>\n",
       "</table>\n",
       "</div>"
      ],
      "text/plain": [
       "              age        Medu        Fedu  traveltime   studytime    failures  \\\n",
       "count  395.000000  395.000000  395.000000  395.000000  395.000000  395.000000   \n",
       "mean    16.696203    2.749367    2.521519    1.448101    2.035443    0.334177   \n",
       "std      1.276043    1.094735    1.088201    0.697505    0.839240    0.743651   \n",
       "min     15.000000    0.000000    0.000000    1.000000    1.000000    0.000000   \n",
       "25%     16.000000    2.000000    2.000000    1.000000    1.000000    0.000000   \n",
       "50%     17.000000    3.000000    2.000000    1.000000    2.000000    0.000000   \n",
       "75%     18.000000    4.000000    3.000000    2.000000    2.000000    0.000000   \n",
       "max     22.000000    4.000000    4.000000    4.000000    4.000000    3.000000   \n",
       "\n",
       "           famrel    freetime       goout        Dalc        Walc      health  \\\n",
       "count  395.000000  395.000000  395.000000  395.000000  395.000000  395.000000   \n",
       "mean     3.944304    3.235443    3.108861    1.481013    2.291139    3.554430   \n",
       "std      0.896659    0.998862    1.113278    0.890741    1.287897    1.390303   \n",
       "min      1.000000    1.000000    1.000000    1.000000    1.000000    1.000000   \n",
       "25%      4.000000    3.000000    2.000000    1.000000    1.000000    3.000000   \n",
       "50%      4.000000    3.000000    3.000000    1.000000    2.000000    4.000000   \n",
       "75%      5.000000    4.000000    4.000000    2.000000    3.000000    5.000000   \n",
       "max      5.000000    5.000000    5.000000    5.000000    5.000000    5.000000   \n",
       "\n",
       "         absences          G1          G2          G3  \n",
       "count  395.000000  395.000000  395.000000  395.000000  \n",
       "mean     5.708861   10.908861   10.713924   10.415190  \n",
       "std      8.003096    3.319195    3.761505    4.581443  \n",
       "min      0.000000    3.000000    0.000000    0.000000  \n",
       "25%      0.000000    8.000000    9.000000    8.000000  \n",
       "50%      4.000000   11.000000   11.000000   11.000000  \n",
       "75%      8.000000   13.000000   13.000000   14.000000  \n",
       "max     75.000000   19.000000   19.000000   20.000000  "
      ]
     },
     "execution_count": 5,
     "metadata": {},
     "output_type": "execute_result"
    }
   ],
   "source": [
    "data.describe()"
   ]
  },
  {
   "cell_type": "code",
   "execution_count": 6,
   "metadata": {
    "execution": {
     "iopub.execute_input": "2024-12-23T20:02:07.452377Z",
     "iopub.status.busy": "2024-12-23T20:02:07.452015Z",
     "iopub.status.idle": "2024-12-23T20:02:07.458025Z",
     "shell.execute_reply": "2024-12-23T20:02:07.457000Z",
     "shell.execute_reply.started": "2024-12-23T20:02:07.452347Z"
    },
    "trusted": true
   },
   "outputs": [
    {
     "data": {
      "text/plain": [
       "Index(['school', 'sex', 'age', 'address', 'famsize', 'Pstatus', 'Medu', 'Fedu',\n",
       "       'Mjob', 'Fjob', 'reason', 'guardian', 'traveltime', 'studytime',\n",
       "       'failures', 'schoolsup', 'famsup', 'paid', 'activities', 'nursery',\n",
       "       'higher', 'internet', 'romantic', 'famrel', 'freetime', 'goout', 'Dalc',\n",
       "       'Walc', 'health', 'absences', 'G1', 'G2', 'G3'],\n",
       "      dtype='object')"
      ]
     },
     "execution_count": 6,
     "metadata": {},
     "output_type": "execute_result"
    }
   ],
   "source": [
    "data.columns"
   ]
  },
  {
   "cell_type": "markdown",
   "metadata": {},
   "source": [
    "# **Counting Number of Entities**"
   ]
  },
  {
   "cell_type": "code",
   "execution_count": 7,
   "metadata": {
    "execution": {
     "iopub.execute_input": "2024-12-23T20:02:07.459439Z",
     "iopub.status.busy": "2024-12-23T20:02:07.459076Z",
     "iopub.status.idle": "2024-12-23T20:02:07.478592Z",
     "shell.execute_reply": "2024-12-23T20:02:07.477454Z",
     "shell.execute_reply.started": "2024-12-23T20:02:07.459406Z"
    },
    "trusted": true
   },
   "outputs": [
    {
     "data": {
      "text/plain": [
       "school\n",
       "GP    349\n",
       "MS     46\n",
       "Name: count, dtype: int64"
      ]
     },
     "execution_count": 7,
     "metadata": {},
     "output_type": "execute_result"
    }
   ],
   "source": [
    "data['school'].value_counts()"
   ]
  },
  {
   "cell_type": "code",
   "execution_count": 8,
   "metadata": {
    "execution": {
     "iopub.execute_input": "2024-12-23T20:02:07.480000Z",
     "iopub.status.busy": "2024-12-23T20:02:07.479689Z",
     "iopub.status.idle": "2024-12-23T20:02:07.501543Z",
     "shell.execute_reply": "2024-12-23T20:02:07.500329Z",
     "shell.execute_reply.started": "2024-12-23T20:02:07.479975Z"
    },
    "trusted": true
   },
   "outputs": [
    {
     "data": {
      "text/plain": [
       "sex\n",
       "F    208\n",
       "M    187\n",
       "Name: count, dtype: int64"
      ]
     },
     "execution_count": 8,
     "metadata": {},
     "output_type": "execute_result"
    }
   ],
   "source": [
    "data['sex'].value_counts()"
   ]
  },
  {
   "cell_type": "code",
   "execution_count": 9,
   "metadata": {
    "execution": {
     "iopub.execute_input": "2024-12-23T20:02:07.502777Z",
     "iopub.status.busy": "2024-12-23T20:02:07.502467Z",
     "iopub.status.idle": "2024-12-23T20:02:07.520195Z",
     "shell.execute_reply": "2024-12-23T20:02:07.519056Z",
     "shell.execute_reply.started": "2024-12-23T20:02:07.502712Z"
    },
    "trusted": true
   },
   "outputs": [
    {
     "data": {
      "text/plain": [
       "age\n",
       "16    104\n",
       "17     98\n",
       "18     82\n",
       "15     82\n",
       "19     24\n",
       "20      3\n",
       "22      1\n",
       "21      1\n",
       "Name: count, dtype: int64"
      ]
     },
     "execution_count": 9,
     "metadata": {},
     "output_type": "execute_result"
    }
   ],
   "source": [
    "data['age'].value_counts()"
   ]
  },
  {
   "cell_type": "code",
   "execution_count": 10,
   "metadata": {
    "execution": {
     "iopub.execute_input": "2024-12-23T20:02:07.523581Z",
     "iopub.status.busy": "2024-12-23T20:02:07.523255Z",
     "iopub.status.idle": "2024-12-23T20:02:07.539147Z",
     "shell.execute_reply": "2024-12-23T20:02:07.538124Z",
     "shell.execute_reply.started": "2024-12-23T20:02:07.523555Z"
    },
    "trusted": true
   },
   "outputs": [
    {
     "data": {
      "text/plain": [
       "famsize\n",
       "GT3    281\n",
       "LE3    114\n",
       "Name: count, dtype: int64"
      ]
     },
     "execution_count": 10,
     "metadata": {},
     "output_type": "execute_result"
    }
   ],
   "source": [
    "data['famsize'].value_counts()"
   ]
  },
  {
   "cell_type": "code",
   "execution_count": null,
   "metadata": {
    "execution": {
     "iopub.execute_input": "2024-12-23T20:02:07.541346Z",
     "iopub.status.busy": "2024-12-23T20:02:07.540980Z",
     "iopub.status.idle": "2024-12-23T20:02:07.558675Z",
     "shell.execute_reply": "2024-12-23T20:02:07.557736Z",
     "shell.execute_reply.started": "2024-12-23T20:02:07.541308Z"
    },
    "trusted": true
   },
   "outputs": [
    {
     "data": {
      "text/plain": [
       "traveltime\n",
       "1    257\n",
       "2    107\n",
       "3     23\n",
       "4      8\n",
       "Name: count, dtype: int64"
      ]
     },
     "execution_count": 11,
     "metadata": {},
     "output_type": "execute_result"
    }
   ],
   "source": [
    "data['traveltime'].value_counts()"
   ]
  },
  {
   "cell_type": "code",
   "execution_count": 12,
   "metadata": {
    "execution": {
     "iopub.execute_input": "2024-12-23T20:02:07.560074Z",
     "iopub.status.busy": "2024-12-23T20:02:07.559713Z",
     "iopub.status.idle": "2024-12-23T20:02:07.577452Z",
     "shell.execute_reply": "2024-12-23T20:02:07.576486Z",
     "shell.execute_reply.started": "2024-12-23T20:02:07.560037Z"
    },
    "trusted": true
   },
   "outputs": [
    {
     "data": {
      "text/plain": [
       "studytime\n",
       "2    198\n",
       "1    105\n",
       "3     65\n",
       "4     27\n",
       "Name: count, dtype: int64"
      ]
     },
     "execution_count": 12,
     "metadata": {},
     "output_type": "execute_result"
    }
   ],
   "source": [
    "data['studytime'].value_counts()"
   ]
  },
  {
   "cell_type": "code",
   "execution_count": 13,
   "metadata": {
    "execution": {
     "iopub.execute_input": "2024-12-23T20:02:07.579042Z",
     "iopub.status.busy": "2024-12-23T20:02:07.578672Z",
     "iopub.status.idle": "2024-12-23T20:02:07.595536Z",
     "shell.execute_reply": "2024-12-23T20:02:07.594460Z",
     "shell.execute_reply.started": "2024-12-23T20:02:07.579005Z"
    },
    "trusted": true
   },
   "outputs": [
    {
     "data": {
      "text/plain": [
       "failures\n",
       "0    312\n",
       "1     50\n",
       "2     17\n",
       "3     16\n",
       "Name: count, dtype: int64"
      ]
     },
     "execution_count": 13,
     "metadata": {},
     "output_type": "execute_result"
    }
   ],
   "source": [
    "data['failures'].value_counts()"
   ]
  },
  {
   "cell_type": "code",
   "execution_count": 14,
   "metadata": {
    "execution": {
     "iopub.execute_input": "2024-12-23T20:02:07.597308Z",
     "iopub.status.busy": "2024-12-23T20:02:07.596802Z",
     "iopub.status.idle": "2024-12-23T20:02:07.617587Z",
     "shell.execute_reply": "2024-12-23T20:02:07.616588Z",
     "shell.execute_reply.started": "2024-12-23T20:02:07.597254Z"
    },
    "trusted": true
   },
   "outputs": [
    {
     "data": {
      "text/plain": [
       "Mjob\n",
       "other       141\n",
       "services    103\n",
       "at_home      59\n",
       "teacher      58\n",
       "health       34\n",
       "Name: count, dtype: int64"
      ]
     },
     "execution_count": 14,
     "metadata": {},
     "output_type": "execute_result"
    }
   ],
   "source": [
    "data['Mjob'].value_counts()"
   ]
  },
  {
   "cell_type": "code",
   "execution_count": 15,
   "metadata": {
    "execution": {
     "iopub.execute_input": "2024-12-23T20:02:07.619111Z",
     "iopub.status.busy": "2024-12-23T20:02:07.618731Z",
     "iopub.status.idle": "2024-12-23T20:02:07.637872Z",
     "shell.execute_reply": "2024-12-23T20:02:07.636780Z",
     "shell.execute_reply.started": "2024-12-23T20:02:07.619079Z"
    },
    "trusted": true
   },
   "outputs": [
    {
     "data": {
      "text/plain": [
       "Fjob\n",
       "other       217\n",
       "services    111\n",
       "teacher      29\n",
       "at_home      20\n",
       "health       18\n",
       "Name: count, dtype: int64"
      ]
     },
     "execution_count": 15,
     "metadata": {},
     "output_type": "execute_result"
    }
   ],
   "source": [
    "data['Fjob'].value_counts()"
   ]
  },
  {
   "cell_type": "markdown",
   "metadata": {},
   "source": [
    "#  **Failure**"
   ]
  },
  {
   "cell_type": "code",
   "execution_count": 16,
   "metadata": {
    "execution": {
     "iopub.execute_input": "2024-12-23T20:02:07.639231Z",
     "iopub.status.busy": "2024-12-23T20:02:07.638928Z",
     "iopub.status.idle": "2024-12-23T20:02:07.691872Z",
     "shell.execute_reply": "2024-12-23T20:02:07.690876Z",
     "shell.execute_reply.started": "2024-12-23T20:02:07.639196Z"
    },
    "trusted": true
   },
   "outputs": [
    {
     "data": {
      "text/html": [
       "<div>\n",
       "<style scoped>\n",
       "    .dataframe tbody tr th:only-of-type {\n",
       "        vertical-align: middle;\n",
       "    }\n",
       "\n",
       "    .dataframe tbody tr th {\n",
       "        vertical-align: top;\n",
       "    }\n",
       "\n",
       "    .dataframe thead th {\n",
       "        text-align: right;\n",
       "    }\n",
       "</style>\n",
       "<table border=\"1\" class=\"dataframe\">\n",
       "  <thead>\n",
       "    <tr style=\"text-align: right;\">\n",
       "      <th></th>\n",
       "      <th>school</th>\n",
       "      <th>sex</th>\n",
       "      <th>age</th>\n",
       "      <th>address</th>\n",
       "      <th>famsize</th>\n",
       "      <th>Pstatus</th>\n",
       "      <th>Medu</th>\n",
       "      <th>Fedu</th>\n",
       "      <th>Mjob</th>\n",
       "      <th>Fjob</th>\n",
       "      <th>...</th>\n",
       "      <th>famrel</th>\n",
       "      <th>freetime</th>\n",
       "      <th>goout</th>\n",
       "      <th>Dalc</th>\n",
       "      <th>Walc</th>\n",
       "      <th>health</th>\n",
       "      <th>absences</th>\n",
       "      <th>G1</th>\n",
       "      <th>G2</th>\n",
       "      <th>G3</th>\n",
       "    </tr>\n",
       "  </thead>\n",
       "  <tbody>\n",
       "    <tr>\n",
       "      <th>0</th>\n",
       "      <td>GP</td>\n",
       "      <td>F</td>\n",
       "      <td>18.0</td>\n",
       "      <td>U</td>\n",
       "      <td>GT3</td>\n",
       "      <td>A</td>\n",
       "      <td>4.0</td>\n",
       "      <td>4.0</td>\n",
       "      <td>at_home</td>\n",
       "      <td>teacher</td>\n",
       "      <td>...</td>\n",
       "      <td>4.0</td>\n",
       "      <td>3.0</td>\n",
       "      <td>4.0</td>\n",
       "      <td>1.0</td>\n",
       "      <td>1.0</td>\n",
       "      <td>3.0</td>\n",
       "      <td>6.0</td>\n",
       "      <td>5.0</td>\n",
       "      <td>6.0</td>\n",
       "      <td>6.0</td>\n",
       "    </tr>\n",
       "    <tr>\n",
       "      <th>1</th>\n",
       "      <td>GP</td>\n",
       "      <td>F</td>\n",
       "      <td>17.0</td>\n",
       "      <td>U</td>\n",
       "      <td>GT3</td>\n",
       "      <td>T</td>\n",
       "      <td>1.0</td>\n",
       "      <td>1.0</td>\n",
       "      <td>at_home</td>\n",
       "      <td>other</td>\n",
       "      <td>...</td>\n",
       "      <td>5.0</td>\n",
       "      <td>3.0</td>\n",
       "      <td>3.0</td>\n",
       "      <td>1.0</td>\n",
       "      <td>1.0</td>\n",
       "      <td>3.0</td>\n",
       "      <td>4.0</td>\n",
       "      <td>5.0</td>\n",
       "      <td>5.0</td>\n",
       "      <td>6.0</td>\n",
       "    </tr>\n",
       "    <tr>\n",
       "      <th>3</th>\n",
       "      <td>GP</td>\n",
       "      <td>F</td>\n",
       "      <td>15.0</td>\n",
       "      <td>U</td>\n",
       "      <td>GT3</td>\n",
       "      <td>T</td>\n",
       "      <td>4.0</td>\n",
       "      <td>2.0</td>\n",
       "      <td>health</td>\n",
       "      <td>services</td>\n",
       "      <td>...</td>\n",
       "      <td>3.0</td>\n",
       "      <td>2.0</td>\n",
       "      <td>2.0</td>\n",
       "      <td>1.0</td>\n",
       "      <td>1.0</td>\n",
       "      <td>5.0</td>\n",
       "      <td>2.0</td>\n",
       "      <td>15.0</td>\n",
       "      <td>14.0</td>\n",
       "      <td>15.0</td>\n",
       "    </tr>\n",
       "    <tr>\n",
       "      <th>4</th>\n",
       "      <td>GP</td>\n",
       "      <td>F</td>\n",
       "      <td>16.0</td>\n",
       "      <td>U</td>\n",
       "      <td>GT3</td>\n",
       "      <td>T</td>\n",
       "      <td>3.0</td>\n",
       "      <td>3.0</td>\n",
       "      <td>other</td>\n",
       "      <td>other</td>\n",
       "      <td>...</td>\n",
       "      <td>4.0</td>\n",
       "      <td>3.0</td>\n",
       "      <td>2.0</td>\n",
       "      <td>1.0</td>\n",
       "      <td>2.0</td>\n",
       "      <td>5.0</td>\n",
       "      <td>4.0</td>\n",
       "      <td>6.0</td>\n",
       "      <td>10.0</td>\n",
       "      <td>10.0</td>\n",
       "    </tr>\n",
       "    <tr>\n",
       "      <th>5</th>\n",
       "      <td>GP</td>\n",
       "      <td>M</td>\n",
       "      <td>16.0</td>\n",
       "      <td>U</td>\n",
       "      <td>LE3</td>\n",
       "      <td>T</td>\n",
       "      <td>4.0</td>\n",
       "      <td>3.0</td>\n",
       "      <td>services</td>\n",
       "      <td>other</td>\n",
       "      <td>...</td>\n",
       "      <td>5.0</td>\n",
       "      <td>4.0</td>\n",
       "      <td>2.0</td>\n",
       "      <td>1.0</td>\n",
       "      <td>2.0</td>\n",
       "      <td>5.0</td>\n",
       "      <td>10.0</td>\n",
       "      <td>15.0</td>\n",
       "      <td>15.0</td>\n",
       "      <td>15.0</td>\n",
       "    </tr>\n",
       "    <tr>\n",
       "      <th>...</th>\n",
       "      <td>...</td>\n",
       "      <td>...</td>\n",
       "      <td>...</td>\n",
       "      <td>...</td>\n",
       "      <td>...</td>\n",
       "      <td>...</td>\n",
       "      <td>...</td>\n",
       "      <td>...</td>\n",
       "      <td>...</td>\n",
       "      <td>...</td>\n",
       "      <td>...</td>\n",
       "      <td>...</td>\n",
       "      <td>...</td>\n",
       "      <td>...</td>\n",
       "      <td>...</td>\n",
       "      <td>...</td>\n",
       "      <td>...</td>\n",
       "      <td>...</td>\n",
       "      <td>...</td>\n",
       "      <td>...</td>\n",
       "      <td>...</td>\n",
       "    </tr>\n",
       "    <tr>\n",
       "      <th>386</th>\n",
       "      <td>MS</td>\n",
       "      <td>F</td>\n",
       "      <td>18.0</td>\n",
       "      <td>R</td>\n",
       "      <td>GT3</td>\n",
       "      <td>T</td>\n",
       "      <td>4.0</td>\n",
       "      <td>4.0</td>\n",
       "      <td>teacher</td>\n",
       "      <td>at_home</td>\n",
       "      <td>...</td>\n",
       "      <td>4.0</td>\n",
       "      <td>4.0</td>\n",
       "      <td>3.0</td>\n",
       "      <td>2.0</td>\n",
       "      <td>2.0</td>\n",
       "      <td>5.0</td>\n",
       "      <td>7.0</td>\n",
       "      <td>6.0</td>\n",
       "      <td>5.0</td>\n",
       "      <td>6.0</td>\n",
       "    </tr>\n",
       "    <tr>\n",
       "      <th>388</th>\n",
       "      <td>MS</td>\n",
       "      <td>F</td>\n",
       "      <td>18.0</td>\n",
       "      <td>U</td>\n",
       "      <td>LE3</td>\n",
       "      <td>T</td>\n",
       "      <td>3.0</td>\n",
       "      <td>1.0</td>\n",
       "      <td>teacher</td>\n",
       "      <td>services</td>\n",
       "      <td>...</td>\n",
       "      <td>4.0</td>\n",
       "      <td>3.0</td>\n",
       "      <td>4.0</td>\n",
       "      <td>1.0</td>\n",
       "      <td>1.0</td>\n",
       "      <td>1.0</td>\n",
       "      <td>0.0</td>\n",
       "      <td>7.0</td>\n",
       "      <td>9.0</td>\n",
       "      <td>8.0</td>\n",
       "    </tr>\n",
       "    <tr>\n",
       "      <th>391</th>\n",
       "      <td>MS</td>\n",
       "      <td>M</td>\n",
       "      <td>17.0</td>\n",
       "      <td>U</td>\n",
       "      <td>LE3</td>\n",
       "      <td>T</td>\n",
       "      <td>3.0</td>\n",
       "      <td>1.0</td>\n",
       "      <td>services</td>\n",
       "      <td>services</td>\n",
       "      <td>...</td>\n",
       "      <td>2.0</td>\n",
       "      <td>4.0</td>\n",
       "      <td>5.0</td>\n",
       "      <td>3.0</td>\n",
       "      <td>4.0</td>\n",
       "      <td>2.0</td>\n",
       "      <td>3.0</td>\n",
       "      <td>14.0</td>\n",
       "      <td>16.0</td>\n",
       "      <td>16.0</td>\n",
       "    </tr>\n",
       "    <tr>\n",
       "      <th>393</th>\n",
       "      <td>MS</td>\n",
       "      <td>M</td>\n",
       "      <td>18.0</td>\n",
       "      <td>R</td>\n",
       "      <td>LE3</td>\n",
       "      <td>T</td>\n",
       "      <td>3.0</td>\n",
       "      <td>2.0</td>\n",
       "      <td>services</td>\n",
       "      <td>other</td>\n",
       "      <td>...</td>\n",
       "      <td>4.0</td>\n",
       "      <td>4.0</td>\n",
       "      <td>1.0</td>\n",
       "      <td>3.0</td>\n",
       "      <td>4.0</td>\n",
       "      <td>5.0</td>\n",
       "      <td>0.0</td>\n",
       "      <td>11.0</td>\n",
       "      <td>12.0</td>\n",
       "      <td>10.0</td>\n",
       "    </tr>\n",
       "    <tr>\n",
       "      <th>394</th>\n",
       "      <td>MS</td>\n",
       "      <td>M</td>\n",
       "      <td>19.0</td>\n",
       "      <td>U</td>\n",
       "      <td>LE3</td>\n",
       "      <td>T</td>\n",
       "      <td>1.0</td>\n",
       "      <td>1.0</td>\n",
       "      <td>other</td>\n",
       "      <td>at_home</td>\n",
       "      <td>...</td>\n",
       "      <td>3.0</td>\n",
       "      <td>2.0</td>\n",
       "      <td>3.0</td>\n",
       "      <td>3.0</td>\n",
       "      <td>3.0</td>\n",
       "      <td>5.0</td>\n",
       "      <td>5.0</td>\n",
       "      <td>8.0</td>\n",
       "      <td>9.0</td>\n",
       "      <td>9.0</td>\n",
       "    </tr>\n",
       "  </tbody>\n",
       "</table>\n",
       "<p>312 rows × 33 columns</p>\n",
       "</div>"
      ],
      "text/plain": [
       "    school sex   age address famsize Pstatus  Medu  Fedu      Mjob      Fjob  \\\n",
       "0       GP   F  18.0       U     GT3       A   4.0   4.0   at_home   teacher   \n",
       "1       GP   F  17.0       U     GT3       T   1.0   1.0   at_home     other   \n",
       "3       GP   F  15.0       U     GT3       T   4.0   2.0    health  services   \n",
       "4       GP   F  16.0       U     GT3       T   3.0   3.0     other     other   \n",
       "5       GP   M  16.0       U     LE3       T   4.0   3.0  services     other   \n",
       "..     ...  ..   ...     ...     ...     ...   ...   ...       ...       ...   \n",
       "386     MS   F  18.0       R     GT3       T   4.0   4.0   teacher   at_home   \n",
       "388     MS   F  18.0       U     LE3       T   3.0   1.0   teacher  services   \n",
       "391     MS   M  17.0       U     LE3       T   3.0   1.0  services  services   \n",
       "393     MS   M  18.0       R     LE3       T   3.0   2.0  services     other   \n",
       "394     MS   M  19.0       U     LE3       T   1.0   1.0     other   at_home   \n",
       "\n",
       "     ... famrel freetime  goout  Dalc  Walc health absences    G1    G2    G3  \n",
       "0    ...    4.0      3.0    4.0   1.0   1.0    3.0      6.0   5.0   6.0   6.0  \n",
       "1    ...    5.0      3.0    3.0   1.0   1.0    3.0      4.0   5.0   5.0   6.0  \n",
       "3    ...    3.0      2.0    2.0   1.0   1.0    5.0      2.0  15.0  14.0  15.0  \n",
       "4    ...    4.0      3.0    2.0   1.0   2.0    5.0      4.0   6.0  10.0  10.0  \n",
       "5    ...    5.0      4.0    2.0   1.0   2.0    5.0     10.0  15.0  15.0  15.0  \n",
       "..   ...    ...      ...    ...   ...   ...    ...      ...   ...   ...   ...  \n",
       "386  ...    4.0      4.0    3.0   2.0   2.0    5.0      7.0   6.0   5.0   6.0  \n",
       "388  ...    4.0      3.0    4.0   1.0   1.0    1.0      0.0   7.0   9.0   8.0  \n",
       "391  ...    2.0      4.0    5.0   3.0   4.0    2.0      3.0  14.0  16.0  16.0  \n",
       "393  ...    4.0      4.0    1.0   3.0   4.0    5.0      0.0  11.0  12.0  10.0  \n",
       "394  ...    3.0      2.0    3.0   3.0   3.0    5.0      5.0   8.0   9.0   9.0  \n",
       "\n",
       "[312 rows x 33 columns]"
      ]
     },
     "execution_count": 16,
     "metadata": {},
     "output_type": "execute_result"
    }
   ],
   "source": [
    "Fail_0 = data.where(data['failures']==0)\n",
    "Fail_0 = Fail_0.dropna()\n",
    "Fail_0"
   ]
  },
  {
   "cell_type": "code",
   "execution_count": 17,
   "metadata": {
    "execution": {
     "iopub.execute_input": "2024-12-23T20:02:07.693116Z",
     "iopub.status.busy": "2024-12-23T20:02:07.692831Z",
     "iopub.status.idle": "2024-12-23T20:02:07.723860Z",
     "shell.execute_reply": "2024-12-23T20:02:07.722763Z",
     "shell.execute_reply.started": "2024-12-23T20:02:07.693091Z"
    },
    "trusted": true
   },
   "outputs": [
    {
     "data": {
      "text/html": [
       "<div>\n",
       "<style scoped>\n",
       "    .dataframe tbody tr th:only-of-type {\n",
       "        vertical-align: middle;\n",
       "    }\n",
       "\n",
       "    .dataframe tbody tr th {\n",
       "        vertical-align: top;\n",
       "    }\n",
       "\n",
       "    .dataframe thead th {\n",
       "        text-align: right;\n",
       "    }\n",
       "</style>\n",
       "<table border=\"1\" class=\"dataframe\">\n",
       "  <thead>\n",
       "    <tr style=\"text-align: right;\">\n",
       "      <th></th>\n",
       "      <th>school</th>\n",
       "      <th>sex</th>\n",
       "      <th>age</th>\n",
       "      <th>address</th>\n",
       "      <th>famsize</th>\n",
       "      <th>Pstatus</th>\n",
       "      <th>Medu</th>\n",
       "      <th>Fedu</th>\n",
       "      <th>Mjob</th>\n",
       "      <th>Fjob</th>\n",
       "      <th>...</th>\n",
       "      <th>famrel</th>\n",
       "      <th>freetime</th>\n",
       "      <th>goout</th>\n",
       "      <th>Dalc</th>\n",
       "      <th>Walc</th>\n",
       "      <th>health</th>\n",
       "      <th>absences</th>\n",
       "      <th>G1</th>\n",
       "      <th>G2</th>\n",
       "      <th>G3</th>\n",
       "    </tr>\n",
       "  </thead>\n",
       "  <tbody>\n",
       "    <tr>\n",
       "      <th>40</th>\n",
       "      <td>GP</td>\n",
       "      <td>F</td>\n",
       "      <td>16.0</td>\n",
       "      <td>U</td>\n",
       "      <td>LE3</td>\n",
       "      <td>T</td>\n",
       "      <td>2.0</td>\n",
       "      <td>2.0</td>\n",
       "      <td>other</td>\n",
       "      <td>other</td>\n",
       "      <td>...</td>\n",
       "      <td>3.0</td>\n",
       "      <td>3.0</td>\n",
       "      <td>3.0</td>\n",
       "      <td>1.0</td>\n",
       "      <td>2.0</td>\n",
       "      <td>3.0</td>\n",
       "      <td>25.0</td>\n",
       "      <td>7.0</td>\n",
       "      <td>10.0</td>\n",
       "      <td>11.0</td>\n",
       "    </tr>\n",
       "  </tbody>\n",
       "</table>\n",
       "<p>1 rows × 33 columns</p>\n",
       "</div>"
      ],
      "text/plain": [
       "   school sex   age address famsize Pstatus  Medu  Fedu   Mjob   Fjob  ...  \\\n",
       "40     GP   F  16.0       U     LE3       T   2.0   2.0  other  other  ...   \n",
       "\n",
       "   famrel freetime  goout  Dalc  Walc health absences   G1    G2    G3  \n",
       "40    3.0      3.0    3.0   1.0   2.0    3.0     25.0  7.0  10.0  11.0  \n",
       "\n",
       "[1 rows x 33 columns]"
      ]
     },
     "execution_count": 17,
     "metadata": {},
     "output_type": "execute_result"
    }
   ],
   "source": [
    "Fail_1 = data.where(data['failures']==1)\n",
    "Fail_1 = Fail_1.dropna()\n",
    "Fail_1.iloc[0:1]"
   ]
  },
  {
   "cell_type": "code",
   "execution_count": 18,
   "metadata": {
    "execution": {
     "iopub.execute_input": "2024-12-23T20:02:07.725214Z",
     "iopub.status.busy": "2024-12-23T20:02:07.724836Z",
     "iopub.status.idle": "2024-12-23T20:02:07.756907Z",
     "shell.execute_reply": "2024-12-23T20:02:07.755910Z",
     "shell.execute_reply.started": "2024-12-23T20:02:07.725183Z"
    },
    "trusted": true
   },
   "outputs": [
    {
     "data": {
      "text/html": [
       "<div>\n",
       "<style scoped>\n",
       "    .dataframe tbody tr th:only-of-type {\n",
       "        vertical-align: middle;\n",
       "    }\n",
       "\n",
       "    .dataframe tbody tr th {\n",
       "        vertical-align: top;\n",
       "    }\n",
       "\n",
       "    .dataframe thead th {\n",
       "        text-align: right;\n",
       "    }\n",
       "</style>\n",
       "<table border=\"1\" class=\"dataframe\">\n",
       "  <thead>\n",
       "    <tr style=\"text-align: right;\">\n",
       "      <th></th>\n",
       "      <th>school</th>\n",
       "      <th>sex</th>\n",
       "      <th>age</th>\n",
       "      <th>address</th>\n",
       "      <th>famsize</th>\n",
       "      <th>Pstatus</th>\n",
       "      <th>Medu</th>\n",
       "      <th>Fedu</th>\n",
       "      <th>Mjob</th>\n",
       "      <th>Fjob</th>\n",
       "      <th>...</th>\n",
       "      <th>famrel</th>\n",
       "      <th>freetime</th>\n",
       "      <th>goout</th>\n",
       "      <th>Dalc</th>\n",
       "      <th>Walc</th>\n",
       "      <th>health</th>\n",
       "      <th>absences</th>\n",
       "      <th>G1</th>\n",
       "      <th>G2</th>\n",
       "      <th>G3</th>\n",
       "    </tr>\n",
       "  </thead>\n",
       "  <tbody>\n",
       "    <tr>\n",
       "      <th>25</th>\n",
       "      <td>GP</td>\n",
       "      <td>F</td>\n",
       "      <td>16.0</td>\n",
       "      <td>U</td>\n",
       "      <td>GT3</td>\n",
       "      <td>T</td>\n",
       "      <td>2.0</td>\n",
       "      <td>2.0</td>\n",
       "      <td>services</td>\n",
       "      <td>services</td>\n",
       "      <td>...</td>\n",
       "      <td>1.0</td>\n",
       "      <td>2.0</td>\n",
       "      <td>2.0</td>\n",
       "      <td>1.0</td>\n",
       "      <td>3.0</td>\n",
       "      <td>5.0</td>\n",
       "      <td>14.0</td>\n",
       "      <td>6.0</td>\n",
       "      <td>9.0</td>\n",
       "      <td>8.0</td>\n",
       "    </tr>\n",
       "  </tbody>\n",
       "</table>\n",
       "<p>1 rows × 33 columns</p>\n",
       "</div>"
      ],
      "text/plain": [
       "   school sex   age address famsize Pstatus  Medu  Fedu      Mjob      Fjob  \\\n",
       "25     GP   F  16.0       U     GT3       T   2.0   2.0  services  services   \n",
       "\n",
       "    ... famrel freetime  goout  Dalc  Walc health absences   G1   G2   G3  \n",
       "25  ...    1.0      2.0    2.0   1.0   3.0    5.0     14.0  6.0  9.0  8.0  \n",
       "\n",
       "[1 rows x 33 columns]"
      ]
     },
     "execution_count": 18,
     "metadata": {},
     "output_type": "execute_result"
    }
   ],
   "source": [
    "Fail_2 = data.where(data['failures']==2)\n",
    "Fail_2 = Fail_2.dropna()\n",
    "Fail_2.iloc[0:1]"
   ]
  },
  {
   "cell_type": "code",
   "execution_count": 19,
   "metadata": {
    "execution": {
     "iopub.execute_input": "2024-12-23T20:02:07.758657Z",
     "iopub.status.busy": "2024-12-23T20:02:07.758330Z",
     "iopub.status.idle": "2024-12-23T20:02:07.790182Z",
     "shell.execute_reply": "2024-12-23T20:02:07.789128Z",
     "shell.execute_reply.started": "2024-12-23T20:02:07.758632Z"
    },
    "trusted": true
   },
   "outputs": [
    {
     "data": {
      "text/html": [
       "<div>\n",
       "<style scoped>\n",
       "    .dataframe tbody tr th:only-of-type {\n",
       "        vertical-align: middle;\n",
       "    }\n",
       "\n",
       "    .dataframe tbody tr th {\n",
       "        vertical-align: top;\n",
       "    }\n",
       "\n",
       "    .dataframe thead th {\n",
       "        text-align: right;\n",
       "    }\n",
       "</style>\n",
       "<table border=\"1\" class=\"dataframe\">\n",
       "  <thead>\n",
       "    <tr style=\"text-align: right;\">\n",
       "      <th></th>\n",
       "      <th>school</th>\n",
       "      <th>sex</th>\n",
       "      <th>age</th>\n",
       "      <th>address</th>\n",
       "      <th>famsize</th>\n",
       "      <th>Pstatus</th>\n",
       "      <th>Medu</th>\n",
       "      <th>Fedu</th>\n",
       "      <th>Mjob</th>\n",
       "      <th>Fjob</th>\n",
       "      <th>...</th>\n",
       "      <th>famrel</th>\n",
       "      <th>freetime</th>\n",
       "      <th>goout</th>\n",
       "      <th>Dalc</th>\n",
       "      <th>Walc</th>\n",
       "      <th>health</th>\n",
       "      <th>absences</th>\n",
       "      <th>G1</th>\n",
       "      <th>G2</th>\n",
       "      <th>G3</th>\n",
       "    </tr>\n",
       "  </thead>\n",
       "  <tbody>\n",
       "    <tr>\n",
       "      <th>2</th>\n",
       "      <td>GP</td>\n",
       "      <td>F</td>\n",
       "      <td>15.0</td>\n",
       "      <td>U</td>\n",
       "      <td>LE3</td>\n",
       "      <td>T</td>\n",
       "      <td>1.0</td>\n",
       "      <td>1.0</td>\n",
       "      <td>at_home</td>\n",
       "      <td>other</td>\n",
       "      <td>...</td>\n",
       "      <td>4.0</td>\n",
       "      <td>3.0</td>\n",
       "      <td>2.0</td>\n",
       "      <td>2.0</td>\n",
       "      <td>3.0</td>\n",
       "      <td>3.0</td>\n",
       "      <td>10.0</td>\n",
       "      <td>7.0</td>\n",
       "      <td>8.0</td>\n",
       "      <td>10.0</td>\n",
       "    </tr>\n",
       "  </tbody>\n",
       "</table>\n",
       "<p>1 rows × 33 columns</p>\n",
       "</div>"
      ],
      "text/plain": [
       "  school sex   age address famsize Pstatus  Medu  Fedu     Mjob   Fjob  ...  \\\n",
       "2     GP   F  15.0       U     LE3       T   1.0   1.0  at_home  other  ...   \n",
       "\n",
       "  famrel freetime  goout  Dalc  Walc health absences   G1   G2    G3  \n",
       "2    4.0      3.0    2.0   2.0   3.0    3.0     10.0  7.0  8.0  10.0  \n",
       "\n",
       "[1 rows x 33 columns]"
      ]
     },
     "execution_count": 19,
     "metadata": {},
     "output_type": "execute_result"
    }
   ],
   "source": [
    "Fail_3 = data.where(data['failures']==3)\n",
    "Fail_3 = Fail_3.dropna()\n",
    "Fail_3.iloc[0:1]"
   ]
  },
  {
   "cell_type": "markdown",
   "metadata": {},
   "source": [
    "**Failure Outliers**"
   ]
  },
  {
   "cell_type": "code",
   "execution_count": 20,
   "metadata": {
    "execution": {
     "iopub.execute_input": "2024-12-23T20:02:07.791770Z",
     "iopub.status.busy": "2024-12-23T20:02:07.791484Z",
     "iopub.status.idle": "2024-12-23T20:02:08.303774Z",
     "shell.execute_reply": "2024-12-23T20:02:08.302707Z",
     "shell.execute_reply.started": "2024-12-23T20:02:07.791736Z"
    },
    "trusted": true
   },
   "outputs": [
    {
     "data": {
      "text/plain": [
       "<Axes: >"
      ]
     },
     "execution_count": 20,
     "metadata": {},
     "output_type": "execute_result"
    },
    {
     "data": {
      "image/png": "[encoded data removed]",
      "text/plain": [
       "<Figure size 1500x1500 with 1 Axes>"
      ]
     },
     "metadata": {},
     "output_type": "display_data"
    }
   ],
   "source": [
    "#With Outliers\n",
    "fig,ax = plt.subplots(figsize = (15,15))\n",
    "sns.boxplot(data=Fail_0,ax=ax)"
   ]
  },
  {
   "cell_type": "markdown",
   "metadata": {},
   "source": [
    "> Handling Fail_0 Outliers"
   ]
  },
  {
   "cell_type": "code",
   "execution_count": 21,
   "metadata": {
    "execution": {
     "iopub.execute_input": "2024-12-23T20:02:08.305192Z",
     "iopub.status.busy": "2024-12-23T20:02:08.304859Z",
     "iopub.status.idle": "2024-12-23T20:02:08.314564Z",
     "shell.execute_reply": "2024-12-23T20:02:08.313462Z",
     "shell.execute_reply.started": "2024-12-23T20:02:08.305165Z"
    },
    "trusted": true
   },
   "outputs": [
    {
     "data": {
      "text/plain": [
       "age\n",
       "16.0    88\n",
       "17.0    84\n",
       "15.0    71\n",
       "18.0    63\n",
       "19.0     5\n",
       "20.0     1\n",
       "Name: count, dtype: int64"
      ]
     },
     "execution_count": 21,
     "metadata": {},
     "output_type": "execute_result"
    }
   ],
   "source": [
    "Fail_0['age'].value_counts()"
   ]
  },
  {
   "cell_type": "code",
   "execution_count": 22,
   "metadata": {
    "execution": {
     "iopub.execute_input": "2024-12-23T20:02:08.315958Z",
     "iopub.status.busy": "2024-12-23T20:02:08.315601Z",
     "iopub.status.idle": "2024-12-23T20:02:08.331506Z",
     "shell.execute_reply": "2024-12-23T20:02:08.330344Z",
     "shell.execute_reply.started": "2024-12-23T20:02:08.315881Z"
    },
    "trusted": true
   },
   "outputs": [],
   "source": [
    "age_mean = round(Fail_0['age'].mean())\n",
    "Fail_0['age']=Fail_0['age'].apply(lambda x : age_mean if x>18 else x)"
   ]
  },
  {
   "cell_type": "code",
   "execution_count": 23,
   "metadata": {
    "execution": {
     "iopub.execute_input": "2024-12-23T20:02:08.332900Z",
     "iopub.status.busy": "2024-12-23T20:02:08.332579Z",
     "iopub.status.idle": "2024-12-23T20:02:08.352510Z",
     "shell.execute_reply": "2024-12-23T20:02:08.351571Z",
     "shell.execute_reply.started": "2024-12-23T20:02:08.332872Z"
    },
    "trusted": true
   },
   "outputs": [
    {
     "data": {
      "text/plain": [
       "traveltime\n",
       "1.0    209\n",
       "2.0     80\n",
       "3.0     17\n",
       "4.0      6\n",
       "Name: count, dtype: int64"
      ]
     },
     "execution_count": 23,
     "metadata": {},
     "output_type": "execute_result"
    }
   ],
   "source": [
    "Fail_0['traveltime'].value_counts()"
   ]
  },
  {
   "cell_type": "code",
   "execution_count": 24,
   "metadata": {
    "execution": {
     "iopub.execute_input": "2024-12-23T20:02:08.354024Z",
     "iopub.status.busy": "2024-12-23T20:02:08.353647Z",
     "iopub.status.idle": "2024-12-23T20:02:08.369262Z",
     "shell.execute_reply": "2024-12-23T20:02:08.368114Z",
     "shell.execute_reply.started": "2024-12-23T20:02:08.353988Z"
    },
    "trusted": true
   },
   "outputs": [],
   "source": [
    "Travel_mean = round(Fail_0['traveltime'].mean())\n",
    "# round(Medu_mean)\n",
    "Fail_0['traveltime'] = Fail_0['traveltime'].replace(4,Travel_mean)"
   ]
  },
  {
   "cell_type": "code",
   "execution_count": 25,
   "metadata": {
    "execution": {
     "iopub.execute_input": "2024-12-23T20:02:08.370827Z",
     "iopub.status.busy": "2024-12-23T20:02:08.370455Z",
     "iopub.status.idle": "2024-12-23T20:02:08.388617Z",
     "shell.execute_reply": "2024-12-23T20:02:08.387499Z",
     "shell.execute_reply.started": "2024-12-23T20:02:08.370794Z"
    },
    "trusted": true
   },
   "outputs": [
    {
     "data": {
      "text/plain": [
       "famrel\n",
       "4.0    151\n",
       "5.0     88\n",
       "3.0     54\n",
       "2.0     13\n",
       "1.0      6\n",
       "Name: count, dtype: int64"
      ]
     },
     "execution_count": 25,
     "metadata": {},
     "output_type": "execute_result"
    }
   ],
   "source": [
    "Fail_0['famrel'].value_counts()"
   ]
  },
  {
   "cell_type": "code",
   "execution_count": 26,
   "metadata": {
    "execution": {
     "iopub.execute_input": "2024-12-23T20:02:08.389945Z",
     "iopub.status.busy": "2024-12-23T20:02:08.389602Z",
     "iopub.status.idle": "2024-12-23T20:02:08.404375Z",
     "shell.execute_reply": "2024-12-23T20:02:08.403437Z",
     "shell.execute_reply.started": "2024-12-23T20:02:08.389910Z"
    },
    "trusted": true
   },
   "outputs": [],
   "source": [
    "Famrel_Mean = round(Fail_0['famrel'].mean())\n",
    "Fail_0['famrel']= Fail_0['famrel'].apply(lambda x:x if x>=3 else Famrel_Mean)"
   ]
  },
  {
   "cell_type": "code",
   "execution_count": 27,
   "metadata": {
    "execution": {
     "iopub.execute_input": "2024-12-23T20:02:08.405771Z",
     "iopub.status.busy": "2024-12-23T20:02:08.405401Z",
     "iopub.status.idle": "2024-12-23T20:02:08.424171Z",
     "shell.execute_reply": "2024-12-23T20:02:08.423182Z",
     "shell.execute_reply.started": "2024-12-23T20:02:08.405733Z"
    },
    "trusted": true
   },
   "outputs": [
    {
     "data": {
      "text/plain": [
       "freetime\n",
       "3.0    134\n",
       "4.0     86\n",
       "2.0     52\n",
       "5.0     27\n",
       "1.0     13\n",
       "Name: count, dtype: int64"
      ]
     },
     "execution_count": 27,
     "metadata": {},
     "output_type": "execute_result"
    }
   ],
   "source": [
    "Fail_0['freetime'].value_counts()"
   ]
  },
  {
   "cell_type": "code",
   "execution_count": 28,
   "metadata": {
    "execution": {
     "iopub.execute_input": "2024-12-23T20:02:08.433932Z",
     "iopub.status.busy": "2024-12-23T20:02:08.433481Z",
     "iopub.status.idle": "2024-12-23T20:02:08.441428Z",
     "shell.execute_reply": "2024-12-23T20:02:08.440437Z",
     "shell.execute_reply.started": "2024-12-23T20:02:08.433892Z"
    },
    "trusted": true
   },
   "outputs": [],
   "source": [
    "Freetime_Mean = round(Fail_0['freetime'].mean())\n",
    "Fail_0['freetime']= Fail_0['freetime'].replace(1,Freetime_Mean)"
   ]
  },
  {
   "cell_type": "code",
   "execution_count": 29,
   "metadata": {
    "execution": {
     "iopub.execute_input": "2024-12-23T20:02:08.444794Z",
     "iopub.status.busy": "2024-12-23T20:02:08.444536Z",
     "iopub.status.idle": "2024-12-23T20:02:08.460169Z",
     "shell.execute_reply": "2024-12-23T20:02:08.459114Z",
     "shell.execute_reply.started": "2024-12-23T20:02:08.444770Z"
    },
    "trusted": true
   },
   "outputs": [
    {
     "data": {
      "text/plain": [
       "Dalc\n",
       "1.0    232\n",
       "2.0     50\n",
       "3.0     17\n",
       "5.0      7\n",
       "4.0      6\n",
       "Name: count, dtype: int64"
      ]
     },
     "execution_count": 29,
     "metadata": {},
     "output_type": "execute_result"
    }
   ],
   "source": [
    "Fail_0['Dalc'].value_counts()"
   ]
  },
  {
   "cell_type": "code",
   "execution_count": 30,
   "metadata": {
    "execution": {
     "iopub.execute_input": "2024-12-23T20:02:08.461494Z",
     "iopub.status.busy": "2024-12-23T20:02:08.461148Z",
     "iopub.status.idle": "2024-12-23T20:02:08.476452Z",
     "shell.execute_reply": "2024-12-23T20:02:08.475383Z",
     "shell.execute_reply.started": "2024-12-23T20:02:08.461457Z"
    },
    "trusted": true
   },
   "outputs": [],
   "source": [
    "Fail_0['Dalc'] = Fail_0['Dalc'].apply(lambda x : x if x<4 else 3)"
   ]
  },
  {
   "cell_type": "code",
   "execution_count": 31,
   "metadata": {
    "execution": {
     "iopub.execute_input": "2024-12-23T20:02:08.478037Z",
     "iopub.status.busy": "2024-12-23T20:02:08.477627Z",
     "iopub.status.idle": "2024-12-23T20:02:08.500618Z",
     "shell.execute_reply": "2024-12-23T20:02:08.499516Z",
     "shell.execute_reply.started": "2024-12-23T20:02:08.477981Z"
    },
    "trusted": true
   },
   "outputs": [
    {
     "data": {
      "text/html": [
       "<div>\n",
       "<style scoped>\n",
       "    .dataframe tbody tr th:only-of-type {\n",
       "        vertical-align: middle;\n",
       "    }\n",
       "\n",
       "    .dataframe tbody tr th {\n",
       "        vertical-align: top;\n",
       "    }\n",
       "\n",
       "    .dataframe thead th {\n",
       "        text-align: right;\n",
       "    }\n",
       "</style>\n",
       "<table border=\"1\" class=\"dataframe\">\n",
       "  <thead>\n",
       "    <tr style=\"text-align: right;\">\n",
       "      <th></th>\n",
       "      <th>absences</th>\n",
       "      <th>count</th>\n",
       "    </tr>\n",
       "  </thead>\n",
       "  <tbody>\n",
       "    <tr>\n",
       "      <th>0</th>\n",
       "      <td>0.0</td>\n",
       "      <td>89</td>\n",
       "    </tr>\n",
       "    <tr>\n",
       "      <th>1</th>\n",
       "      <td>2.0</td>\n",
       "      <td>58</td>\n",
       "    </tr>\n",
       "    <tr>\n",
       "      <th>2</th>\n",
       "      <td>4.0</td>\n",
       "      <td>47</td>\n",
       "    </tr>\n",
       "    <tr>\n",
       "      <th>3</th>\n",
       "      <td>6.0</td>\n",
       "      <td>25</td>\n",
       "    </tr>\n",
       "    <tr>\n",
       "      <th>4</th>\n",
       "      <td>8.0</td>\n",
       "      <td>17</td>\n",
       "    </tr>\n",
       "    <tr>\n",
       "      <th>5</th>\n",
       "      <td>10.0</td>\n",
       "      <td>15</td>\n",
       "    </tr>\n",
       "    <tr>\n",
       "      <th>6</th>\n",
       "      <td>12.0</td>\n",
       "      <td>9</td>\n",
       "    </tr>\n",
       "    <tr>\n",
       "      <th>7</th>\n",
       "      <td>14.0</td>\n",
       "      <td>8</td>\n",
       "    </tr>\n",
       "    <tr>\n",
       "      <th>8</th>\n",
       "      <td>3.0</td>\n",
       "      <td>6</td>\n",
       "    </tr>\n",
       "    <tr>\n",
       "      <th>9</th>\n",
       "      <td>7.0</td>\n",
       "      <td>6</td>\n",
       "    </tr>\n",
       "    <tr>\n",
       "      <th>10</th>\n",
       "      <td>18.0</td>\n",
       "      <td>4</td>\n",
       "    </tr>\n",
       "    <tr>\n",
       "      <th>11</th>\n",
       "      <td>5.0</td>\n",
       "      <td>4</td>\n",
       "    </tr>\n",
       "    <tr>\n",
       "      <th>12</th>\n",
       "      <td>16.0</td>\n",
       "      <td>3</td>\n",
       "    </tr>\n",
       "    <tr>\n",
       "      <th>13</th>\n",
       "      <td>9.0</td>\n",
       "      <td>3</td>\n",
       "    </tr>\n",
       "    <tr>\n",
       "      <th>14</th>\n",
       "      <td>1.0</td>\n",
       "      <td>3</td>\n",
       "    </tr>\n",
       "    <tr>\n",
       "      <th>15</th>\n",
       "      <td>11.0</td>\n",
       "      <td>2</td>\n",
       "    </tr>\n",
       "    <tr>\n",
       "      <th>16</th>\n",
       "      <td>13.0</td>\n",
       "      <td>2</td>\n",
       "    </tr>\n",
       "    <tr>\n",
       "      <th>17</th>\n",
       "      <td>20.0</td>\n",
       "      <td>2</td>\n",
       "    </tr>\n",
       "    <tr>\n",
       "      <th>18</th>\n",
       "      <td>30.0</td>\n",
       "      <td>1</td>\n",
       "    </tr>\n",
       "    <tr>\n",
       "      <th>19</th>\n",
       "      <td>23.0</td>\n",
       "      <td>1</td>\n",
       "    </tr>\n",
       "    <tr>\n",
       "      <th>20</th>\n",
       "      <td>56.0</td>\n",
       "      <td>1</td>\n",
       "    </tr>\n",
       "    <tr>\n",
       "      <th>21</th>\n",
       "      <td>22.0</td>\n",
       "      <td>1</td>\n",
       "    </tr>\n",
       "    <tr>\n",
       "      <th>22</th>\n",
       "      <td>75.0</td>\n",
       "      <td>1</td>\n",
       "    </tr>\n",
       "    <tr>\n",
       "      <th>23</th>\n",
       "      <td>21.0</td>\n",
       "      <td>1</td>\n",
       "    </tr>\n",
       "    <tr>\n",
       "      <th>24</th>\n",
       "      <td>26.0</td>\n",
       "      <td>1</td>\n",
       "    </tr>\n",
       "    <tr>\n",
       "      <th>25</th>\n",
       "      <td>54.0</td>\n",
       "      <td>1</td>\n",
       "    </tr>\n",
       "    <tr>\n",
       "      <th>26</th>\n",
       "      <td>17.0</td>\n",
       "      <td>1</td>\n",
       "    </tr>\n",
       "  </tbody>\n",
       "</table>\n",
       "</div>"
      ],
      "text/plain": [
       "    absences  count\n",
       "0        0.0     89\n",
       "1        2.0     58\n",
       "2        4.0     47\n",
       "3        6.0     25\n",
       "4        8.0     17\n",
       "5       10.0     15\n",
       "6       12.0      9\n",
       "7       14.0      8\n",
       "8        3.0      6\n",
       "9        7.0      6\n",
       "10      18.0      4\n",
       "11       5.0      4\n",
       "12      16.0      3\n",
       "13       9.0      3\n",
       "14       1.0      3\n",
       "15      11.0      2\n",
       "16      13.0      2\n",
       "17      20.0      2\n",
       "18      30.0      1\n",
       "19      23.0      1\n",
       "20      56.0      1\n",
       "21      22.0      1\n",
       "22      75.0      1\n",
       "23      21.0      1\n",
       "24      26.0      1\n",
       "25      54.0      1\n",
       "26      17.0      1"
      ]
     },
     "execution_count": 31,
     "metadata": {},
     "output_type": "execute_result"
    }
   ],
   "source": [
    "Absence = Fail_0['absences'].value_counts()\n",
    "Absence = pd.DataFrame(Absence)\n",
    "Absence = Absence.reset_index()\n",
    "Absence"
   ]
  },
  {
   "cell_type": "code",
   "execution_count": 32,
   "metadata": {
    "execution": {
     "iopub.execute_input": "2024-12-23T20:02:08.502068Z",
     "iopub.status.busy": "2024-12-23T20:02:08.501616Z",
     "iopub.status.idle": "2024-12-23T20:02:08.516543Z",
     "shell.execute_reply": "2024-12-23T20:02:08.515552Z",
     "shell.execute_reply.started": "2024-12-23T20:02:08.502030Z"
    },
    "trusted": true
   },
   "outputs": [],
   "source": [
    "Fail_0['absences']=Absence['count'].apply(lambda x:x if x<=2 else round(Fail_0['absences'].mean()))"
   ]
  },
  {
   "cell_type": "code",
   "execution_count": 33,
   "metadata": {
    "execution": {
     "iopub.execute_input": "2024-12-23T20:02:08.517851Z",
     "iopub.status.busy": "2024-12-23T20:02:08.517513Z",
     "iopub.status.idle": "2024-12-23T20:02:08.534907Z",
     "shell.execute_reply": "2024-12-23T20:02:08.533937Z",
     "shell.execute_reply.started": "2024-12-23T20:02:08.517813Z"
    },
    "trusted": true
   },
   "outputs": [
    {
     "data": {
      "text/plain": [
       "G2\n",
       "10.0    37\n",
       "9.0     37\n",
       "15.0    34\n",
       "12.0    34\n",
       "13.0    32\n",
       "11.0    31\n",
       "14.0    21\n",
       "8.0     20\n",
       "16.0    13\n",
       "18.0    11\n",
       "7.0     11\n",
       "6.0      9\n",
       "0.0      8\n",
       "5.0      6\n",
       "17.0     5\n",
       "19.0     3\n",
       "Name: count, dtype: int64"
      ]
     },
     "execution_count": 33,
     "metadata": {},
     "output_type": "execute_result"
    }
   ],
   "source": [
    "Fail_0['G2'].value_counts()"
   ]
  },
  {
   "cell_type": "code",
   "execution_count": 34,
   "metadata": {
    "execution": {
     "iopub.execute_input": "2024-12-23T20:02:08.536530Z",
     "iopub.status.busy": "2024-12-23T20:02:08.536141Z",
     "iopub.status.idle": "2024-12-23T20:02:08.553940Z",
     "shell.execute_reply": "2024-12-23T20:02:08.552885Z",
     "shell.execute_reply.started": "2024-12-23T20:02:08.536492Z"
    },
    "trusted": true
   },
   "outputs": [],
   "source": [
    "G2_Mean = round(Fail_0['G2'].mean())\n",
    "Fail_0['G2'] = Fail_0['G2'].apply(lambda x:x if x>=8 else G2_Mean)"
   ]
  },
  {
   "cell_type": "code",
   "execution_count": 35,
   "metadata": {
    "execution": {
     "iopub.execute_input": "2024-12-23T20:02:08.555544Z",
     "iopub.status.busy": "2024-12-23T20:02:08.555145Z",
     "iopub.status.idle": "2024-12-23T20:02:08.574596Z",
     "shell.execute_reply": "2024-12-23T20:02:08.573593Z",
     "shell.execute_reply.started": "2024-12-23T20:02:08.555504Z"
    },
    "trusted": true
   },
   "outputs": [
    {
     "data": {
      "text/plain": [
       "G3\n",
       "10.0    45\n",
       "11.0    42\n",
       "15.0    32\n",
       "14.0    26\n",
       "13.0    25\n",
       "12.0    25\n",
       "9.0     21\n",
       "0.0     18\n",
       "8.0     18\n",
       "16.0    16\n",
       "6.0     15\n",
       "18.0    11\n",
       "17.0     6\n",
       "19.0     5\n",
       "5.0      3\n",
       "7.0      3\n",
       "20.0     1\n",
       "Name: count, dtype: int64"
      ]
     },
     "execution_count": 35,
     "metadata": {},
     "output_type": "execute_result"
    }
   ],
   "source": [
    "Fail_0['G3'].value_counts()"
   ]
  },
  {
   "cell_type": "code",
   "execution_count": 36,
   "metadata": {
    "execution": {
     "iopub.execute_input": "2024-12-23T20:02:08.576061Z",
     "iopub.status.busy": "2024-12-23T20:02:08.575703Z",
     "iopub.status.idle": "2024-12-23T20:02:08.593105Z",
     "shell.execute_reply": "2024-12-23T20:02:08.591914Z",
     "shell.execute_reply.started": "2024-12-23T20:02:08.576028Z"
    },
    "trusted": true
   },
   "outputs": [],
   "source": [
    "G3_Mean = round(Fail_0['G3'].mean())\n",
    "G3_Mean\n",
    "Fail_0['G3'] = Fail_0['G3'].apply(lambda x:x if x>6 else G2_Mean)"
   ]
  },
  {
   "cell_type": "code",
   "execution_count": 37,
   "metadata": {
    "execution": {
     "iopub.execute_input": "2024-12-23T20:02:08.594473Z",
     "iopub.status.busy": "2024-12-23T20:02:08.594100Z",
     "iopub.status.idle": "2024-12-23T20:02:09.076557Z",
     "shell.execute_reply": "2024-12-23T20:02:09.075524Z",
     "shell.execute_reply.started": "2024-12-23T20:02:08.594433Z"
    },
    "trusted": true
   },
   "outputs": [
    {
     "data": {
      "text/plain": [
       "<Axes: >"
      ]
     },
     "execution_count": 37,
     "metadata": {},
     "output_type": "execute_result"
    },
    {
     "data": {
      "image/png": "[encoded data removed]",
      "text/plain": [
       "<Figure size 1500x1500 with 1 Axes>"
      ]
     },
     "metadata": {},
     "output_type": "display_data"
    }
   ],
   "source": [
    "#After Removing Outliers \n",
    "fig,ax = plt.subplots(figsize = (15,15))\n",
    "sns.boxplot(data=Fail_0,ax=ax)"
   ]
  },
  {
   "cell_type": "code",
   "execution_count": 38,
   "metadata": {
    "execution": {
     "iopub.execute_input": "2024-12-23T20:02:09.077870Z",
     "iopub.status.busy": "2024-12-23T20:02:09.077549Z",
     "iopub.status.idle": "2024-12-23T20:02:10.201859Z",
     "shell.execute_reply": "2024-12-23T20:02:10.200839Z",
     "shell.execute_reply.started": "2024-12-23T20:02:09.077843Z"
    },
    "trusted": true
   },
   "outputs": [
    {
     "name": "stderr",
     "output_type": "stream",
     "text": [
      "/usr/local/lib/python3.10/dist-packages/seaborn/_oldcore.py:1119: FutureWarning: use_inf_as_na option is deprecated and will be removed in a future version. Convert inf values to NaN before operating instead.\n",
      "  with pd.option_context('mode.use_inf_as_na', True):\n",
      "<ipython-input-38-ba2418607573>:2: UserWarning: Dataset has 0 variance; skipping density estimate. Pass `warn_singular=False` to disable this warning.\n",
      "  sns.displot(data = Fail_0,kind='kde')\n"
     ]
    },
    {
     "data": {
      "text/plain": [
       "<seaborn.axisgrid.FacetGrid at 0x7e3dc85d7850>"
      ]
     },
     "execution_count": 38,
     "metadata": {},
     "output_type": "execute_result"
    },
    {
     "data": {
      "image/png": "[encoded data removed]",
      "text/plain": [
       "<Figure size 621.875x500 with 1 Axes>"
      ]
     },
     "metadata": {},
     "output_type": "display_data"
    }
   ],
   "source": [
    "# fig,ax = plt.subplots(figsize = (15,15))\n",
    "sns.displot(data = Fail_0,kind='kde')"
   ]
  },
  {
   "cell_type": "markdown",
   "metadata": {},
   "source": [
    "> **Fail_0 Linear Regression**"
   ]
  },
  {
   "cell_type": "code",
   "execution_count": 39,
   "metadata": {
    "execution": {
     "iopub.execute_input": "2024-12-23T20:02:10.203082Z",
     "iopub.status.busy": "2024-12-23T20:02:10.202731Z",
     "iopub.status.idle": "2024-12-23T20:02:10.215216Z",
     "shell.execute_reply": "2024-12-23T20:02:10.212899Z",
     "shell.execute_reply.started": "2024-12-23T20:02:10.203053Z"
    },
    "trusted": true
   },
   "outputs": [],
   "source": [
    "fail_0_X =  Fail_0.iloc[:,:-1].select_dtypes(include=\"float64\")\n",
    "fail_0_Y = Fail_0.iloc[:,:-1].select_dtypes(include=\"float64\")"
   ]
  },
  {
   "cell_type": "code",
   "execution_count": 40,
   "metadata": {
    "execution": {
     "iopub.execute_input": "2024-12-23T20:02:10.217566Z",
     "iopub.status.busy": "2024-12-23T20:02:10.217099Z",
     "iopub.status.idle": "2024-12-23T20:02:10.244052Z",
     "shell.execute_reply": "2024-12-23T20:02:10.243019Z",
     "shell.execute_reply.started": "2024-12-23T20:02:10.217521Z"
    },
    "trusted": true
   },
   "outputs": [],
   "source": [
    "from sklearn.model_selection import train_test_split\n",
    "X_train,X_test,Y_train,Y_test=train_test_split(fail_0_X,fail_0_Y,test_size=0.3,random_state=45)"
   ]
  },
  {
   "cell_type": "code",
   "execution_count": 41,
   "metadata": {
    "execution": {
     "iopub.execute_input": "2024-12-23T20:02:10.245539Z",
     "iopub.status.busy": "2024-12-23T20:02:10.245145Z",
     "iopub.status.idle": "2024-12-23T20:02:10.255617Z",
     "shell.execute_reply": "2024-12-23T20:02:10.254389Z",
     "shell.execute_reply.started": "2024-12-23T20:02:10.245501Z"
    },
    "trusted": true
   },
   "outputs": [
    {
     "data": {
      "text/plain": [
       "age           float64\n",
       "Medu          float64\n",
       "Fedu          float64\n",
       "traveltime    float64\n",
       "studytime     float64\n",
       "failures      float64\n",
       "famrel        float64\n",
       "freetime      float64\n",
       "goout         float64\n",
       "Dalc          float64\n",
       "Walc          float64\n",
       "health        float64\n",
       "absences      float64\n",
       "G1            float64\n",
       "G2            float64\n",
       "dtype: object"
      ]
     },
     "execution_count": 41,
     "metadata": {},
     "output_type": "execute_result"
    }
   ],
   "source": [
    "X_train.dtypes"
   ]
  },
  {
   "cell_type": "code",
   "execution_count": 42,
   "metadata": {
    "execution": {
     "iopub.execute_input": "2024-12-23T20:02:10.256957Z",
     "iopub.status.busy": "2024-12-23T20:02:10.256603Z",
     "iopub.status.idle": "2024-12-23T20:02:10.273546Z",
     "shell.execute_reply": "2024-12-23T20:02:10.272745Z",
     "shell.execute_reply.started": "2024-12-23T20:02:10.256907Z"
    },
    "trusted": true
   },
   "outputs": [],
   "source": [
    "from sklearn.preprocessing import StandardScaler\n",
    "scaler =  StandardScaler()\n",
    "X_train_norm = scaler.fit_transform(X_train.select_dtypes(include=\"float64\").dropna())"
   ]
  },
  {
   "cell_type": "code",
   "execution_count": 43,
   "metadata": {
    "execution": {
     "iopub.execute_input": "2024-12-23T20:02:10.274670Z",
     "iopub.status.busy": "2024-12-23T20:02:10.274334Z",
     "iopub.status.idle": "2024-12-23T20:02:10.296834Z",
     "shell.execute_reply": "2024-12-23T20:02:10.295542Z",
     "shell.execute_reply.started": "2024-12-23T20:02:10.274624Z"
    },
    "trusted": true
   },
   "outputs": [
    {
     "data": {
      "text/plain": [
       "array([[ 0.71818485, -1.8973666 , -1.15470054,  1.17932379,  0.29559878,\n",
       "         0.        ,  1.41421356,  0.83205029,  1.336198  ,  3.87298335,\n",
       "         2.29227953,  1.0059702 , -1.04560405,  0.38646346,  0.10259784],\n",
       "       [-0.92338052,  0.63245553,  0.        ,  1.17932379,  0.29559878,\n",
       "         0.        ,  1.41421356,  0.83205029,  0.31814238, -0.25819889,\n",
       "         0.13483997, -0.23214697,  1.11306237, -0.70472748, -1.12857619],\n",
       "       [ 0.71818485, -0.63245553,  0.        ,  2.89470384,  0.29559878,\n",
       "         0.        ,  1.41421356, -0.2773501 , -0.69991324, -0.25819889,\n",
       "        -0.94387981,  0.38691162, -0.50593744, -1.43218811, -1.12857619],\n",
       "       [-0.92338052,  0.63245553,  1.15470054, -0.53605627, -1.28092806,\n",
       "         0.        ,  1.41421356,  0.83205029, -0.69991324, -0.25819889,\n",
       "        -0.94387981,  1.0059702 , -1.04560405,  0.02273314,  0.92338052],\n",
       "       [ 0.71818485,  0.63245553,  1.15470054, -0.53605627, -1.28092806,\n",
       "         0.        ,  0.        ,  0.83205029,  1.336198  , -0.25819889,\n",
       "         0.13483997, -0.85120556, -0.50593744,  0.75019377,  0.51298918],\n",
       "       [-0.92338052,  0.63245553, -1.15470054, -0.53605627,  1.87212563,\n",
       "         0.        , -1.41421356, -1.38675049, -0.69991324, -0.25819889,\n",
       "        -0.94387981,  1.0059702 ,  1.11306237,  1.11392409,  0.51298918],\n",
       "       [-0.92338052, -1.8973666 , -1.15470054, -0.53605627, -1.28092806,\n",
       "         0.        ,  0.        , -1.38675049, -0.69991324, -0.25819889,\n",
       "         0.13483997,  1.0059702 , -1.04560405,  0.02273314, -0.30779351],\n",
       "       [-0.92338052, -0.63245553, -1.15470054, -0.53605627,  0.29559878,\n",
       "         0.        ,  0.        , -1.38675049, -0.69991324, -0.25819889,\n",
       "        -0.94387981, -1.47026414,  1.11306237,  1.4776544 ,  2.15455454],\n",
       "       [-0.92338052,  0.63245553,  1.15470054, -0.53605627,  0.29559878,\n",
       "         0.        , -1.41421356, -0.2773501 ,  0.31814238, -0.25819889,\n",
       "         0.13483997, -0.85120556,  1.11306237, -0.70472748, -1.94935887],\n",
       "       [ 0.71818485,  0.63245553, -1.15470054, -0.53605627,  0.29559878,\n",
       "         0.        ,  0.        ,  1.94145069, -1.71796886, -0.25819889,\n",
       "         1.21355975,  1.0059702 , -1.04560405,  1.11392409,  0.92338052],\n",
       "       [-0.92338052,  0.63245553,  0.        , -0.53605627,  0.29559878,\n",
       "         0.        ,  0.        ,  0.83205029, -1.71796886, -0.25819889,\n",
       "        -0.94387981, -1.47026414, -1.04560405,  0.38646346,  0.51298918],\n",
       "       [ 0.71818485, -1.8973666 , -1.15470054, -0.53605627,  0.29559878,\n",
       "         0.        ,  0.        ,  0.83205029,  1.336198  , -0.25819889,\n",
       "        -0.94387981, -0.23214697,  1.11306237,  0.02273314, -0.30779351],\n",
       "       [-0.92338052,  0.63245553,  1.15470054, -0.53605627, -1.28092806,\n",
       "         0.        ,  0.        , -0.2773501 ,  0.31814238, -0.25819889,\n",
       "         1.21355975,  1.0059702 ,  1.11306237,  0.75019377,  0.51298918],\n",
       "       [ 2.35975021,  0.63245553,  1.15470054,  1.17932379,  0.29559878,\n",
       "         0.        ,  0.        , -0.2773501 ,  1.336198  , -0.25819889,\n",
       "        -0.94387981, -1.47026414,  1.11306237, -2.15964874, -0.71818485],\n",
       "       [ 0.71818485,  0.63245553,  0.        , -0.53605627, -1.28092806,\n",
       "         0.        , -1.41421356, -0.2773501 ,  0.31814238, -0.25819889,\n",
       "         1.21355975,  1.0059702 , -1.04560405, -1.43218811, -1.12857619],\n",
       "       [ 0.71818485,  0.63245553,  1.15470054, -0.53605627,  1.87212563,\n",
       "         0.        , -1.41421356, -1.38675049,  0.31814238, -0.25819889,\n",
       "         0.13483997, -0.85120556, -0.50593744,  0.38646346,  0.51298918]])"
      ]
     },
     "execution_count": 43,
     "metadata": {},
     "output_type": "execute_result"
    }
   ],
   "source": [
    "X_train_norm"
   ]
  },
  {
   "cell_type": "code",
   "execution_count": 44,
   "metadata": {
    "execution": {
     "iopub.execute_input": "2024-12-23T20:02:10.298247Z",
     "iopub.status.busy": "2024-12-23T20:02:10.297890Z",
     "iopub.status.idle": "2024-12-23T20:02:10.901303Z",
     "shell.execute_reply": "2024-12-23T20:02:10.900112Z",
     "shell.execute_reply.started": "2024-12-23T20:02:10.298219Z"
    },
    "trusted": true
   },
   "outputs": [
    {
     "data": {
      "text/plain": [
       "<Axes: >"
      ]
     },
     "execution_count": 44,
     "metadata": {},
     "output_type": "execute_result"
    },
    {
     "data": {
      "image/png": "[encoded data removed]",
      "text/plain": [
       "<Figure size 1500x1500 with 1 Axes>"
      ]
     },
     "metadata": {},
     "output_type": "display_data"
    }
   ],
   "source": [
    "fig,ax = plt.subplots(figsize = (15,15))\n",
    "sns.boxplot(data=X_train_norm,ax=ax)"
   ]
  },
  {
   "cell_type": "code",
   "execution_count": 45,
   "metadata": {
    "execution": {
     "iopub.execute_input": "2024-12-23T20:02:10.902810Z",
     "iopub.status.busy": "2024-12-23T20:02:10.902444Z",
     "iopub.status.idle": "2024-12-23T20:02:10.913875Z",
     "shell.execute_reply": "2024-12-23T20:02:10.912794Z",
     "shell.execute_reply.started": "2024-12-23T20:02:10.902774Z"
    },
    "trusted": true
   },
   "outputs": [],
   "source": [
    "X_test_norm = scaler.transform(X_test.select_dtypes(include=\"float64\").dropna())"
   ]
  },
  {
   "cell_type": "code",
   "execution_count": 46,
   "metadata": {
    "execution": {
     "iopub.execute_input": "2024-12-23T20:02:10.915757Z",
     "iopub.status.busy": "2024-12-23T20:02:10.915409Z",
     "iopub.status.idle": "2024-12-23T20:02:10.932305Z",
     "shell.execute_reply": "2024-12-23T20:02:10.931238Z",
     "shell.execute_reply.started": "2024-12-23T20:02:10.915722Z"
    },
    "trusted": true
   },
   "outputs": [
    {
     "data": {
      "text/plain": [
       "array([[ 4.00131557,  0.63245553,  1.15470054,  1.17932379,  0.29559878,\n",
       "         0.        ,  0.        , -0.2773501 ,  1.336198  , -0.25819889,\n",
       "        -0.94387981, -0.23214697,  1.11306237, -2.52337906, -0.71818485],\n",
       "       [ 0.71818485,  0.63245553,  0.        , -0.53605627,  0.29559878,\n",
       "         0.        ,  1.41421356,  0.83205029, -0.69991324, -0.25819889,\n",
       "         0.13483997,  1.0059702 ,  1.11306237,  1.11392409,  0.92338052],\n",
       "       [-0.92338052, -1.8973666 , -1.15470054, -0.53605627,  1.87212563,\n",
       "         0.        ,  0.        ,  1.94145069, -0.69991324, -0.25819889,\n",
       "        -0.94387981, -0.23214697,  1.11306237,  0.75019377,  1.33377186],\n",
       "       [ 0.71818485, -0.63245553,  0.        , -0.53605627,  0.29559878,\n",
       "         0.        ,  0.        , -0.2773501 , -0.69991324, -0.25819889,\n",
       "         0.13483997,  1.0059702 ,  1.11306237, -2.15964874, -1.12857619],\n",
       "       [ 2.35975021, -3.16227766, -2.30940108, -0.53605627,  0.29559878,\n",
       "         0.        ,  1.41421356, -0.2773501 ,  0.31814238, -0.25819889,\n",
       "        -0.94387981, -0.23214697,  1.11306237, -2.52337906, -0.71818485],\n",
       "       [-0.92338052, -0.63245553,  1.15470054, -0.53605627,  0.29559878,\n",
       "         0.        ,  1.41421356,  1.94145069, -1.71796886, -0.25819889,\n",
       "        -0.94387981,  1.0059702 ,  1.11306237,  0.75019377,  0.92338052],\n",
       "       [-0.92338052, -1.8973666 ,  1.15470054, -0.53605627,  1.87212563,\n",
       "         0.        ,  0.        , -0.2773501 , -0.69991324, -0.25819889,\n",
       "        -0.94387981,  1.0059702 , -1.04560405, -0.70472748, -1.53896753],\n",
       "       [-0.92338052, -1.8973666 , -2.30940108,  2.89470384,  1.87212563,\n",
       "         0.        ,  1.41421356, -1.38675049, -0.69991324, -0.25819889,\n",
       "        -0.94387981,  0.38691162,  1.11306237, -0.70472748, -0.30779351]])"
      ]
     },
     "execution_count": 46,
     "metadata": {},
     "output_type": "execute_result"
    }
   ],
   "source": [
    "X_test_norm"
   ]
  },
  {
   "cell_type": "code",
   "execution_count": 47,
   "metadata": {
    "execution": {
     "iopub.execute_input": "2024-12-23T20:02:10.933590Z",
     "iopub.status.busy": "2024-12-23T20:02:10.933212Z",
     "iopub.status.idle": "2024-12-23T20:02:11.660202Z",
     "shell.execute_reply": "2024-12-23T20:02:11.658906Z",
     "shell.execute_reply.started": "2024-12-23T20:02:10.933551Z"
    },
    "trusted": true
   },
   "outputs": [
    {
     "data": {
      "text/plain": [
       "<Axes: >"
      ]
     },
     "execution_count": 47,
     "metadata": {},
     "output_type": "execute_result"
    },
    {
     "data": {
      "image/png": "[encoded data removed]",
      "text/plain": [
       "<Figure size 1500x1500 with 1 Axes>"
      ]
     },
     "metadata": {},
     "output_type": "display_data"
    }
   ],
   "source": [
    "fig,ax = plt.subplots(figsize = (15,15))\n",
    "sns.boxplot(data=X_test_norm,ax=ax)"
   ]
  },
  {
   "cell_type": "code",
   "execution_count": 48,
   "metadata": {
    "execution": {
     "iopub.execute_input": "2024-12-23T20:02:11.661846Z",
     "iopub.status.busy": "2024-12-23T20:02:11.661492Z",
     "iopub.status.idle": "2024-12-23T20:02:11.807029Z",
     "shell.execute_reply": "2024-12-23T20:02:11.805826Z",
     "shell.execute_reply.started": "2024-12-23T20:02:11.661811Z"
    },
    "trusted": true
   },
   "outputs": [
    {
     "data": {
      "text/html": [
       "<style>#sk-container-id-1 {color: black;background-color: white;}#sk-container-id-1 pre{padding: 0;}#sk-container-id-1 div.sk-toggleable {background-color: white;}#sk-container-id-1 label.sk-toggleable__label {cursor: pointer;display: block;width: 100%;margin-bottom: 0;padding: 0.3em;box-sizing: border-box;text-align: center;}#sk-container-id-1 label.sk-toggleable__label-arrow:before {content: \"▸\";float: left;margin-right: 0.25em;color: #696969;}#sk-container-id-1 label.sk-toggleable__label-arrow:hover:before {color: black;}#sk-container-id-1 div.sk-estimator:hover label.sk-toggleable__label-arrow:before {color: black;}#sk-container-id-1 div.sk-toggleable__content {max-height: 0;max-width: 0;overflow: hidden;text-align: left;background-color: #f0f8ff;}#sk-container-id-1 div.sk-toggleable__content pre {margin: 0.2em;color: black;border-radius: 0.25em;background-color: #f0f8ff;}#sk-container-id-1 input.sk-toggleable__control:checked~div.sk-toggleable__content {max-height: 200px;max-width: 100%;overflow: auto;}#sk-container-id-1 input.sk-toggleable__control:checked~label.sk-toggleable__label-arrow:before {content: \"▾\";}#sk-container-id-1 div.sk-estimator input.sk-toggleable__control:checked~label.sk-toggleable__label {background-color: #d4ebff;}#sk-container-id-1 div.sk-label input.sk-toggleable__control:checked~label.sk-toggleable__label {background-color: #d4ebff;}#sk-container-id-1 input.sk-hidden--visually {border: 0;clip: rect(1px 1px 1px 1px);clip: rect(1px, 1px, 1px, 1px);height: 1px;margin: -1px;overflow: hidden;padding: 0;position: absolute;width: 1px;}#sk-container-id-1 div.sk-estimator {font-family: monospace;background-color: #f0f8ff;border: 1px dotted black;border-radius: 0.25em;box-sizing: border-box;margin-bottom: 0.5em;}#sk-container-id-1 div.sk-estimator:hover {background-color: #d4ebff;}#sk-container-id-1 div.sk-parallel-item::after {content: \"\";width: 100%;border-bottom: 1px solid gray;flex-grow: 1;}#sk-container-id-1 div.sk-label:hover label.sk-toggleable__label {background-color: #d4ebff;}#sk-container-id-1 div.sk-serial::before {content: \"\";position: absolute;border-left: 1px solid gray;box-sizing: border-box;top: 0;bottom: 0;left: 50%;z-index: 0;}#sk-container-id-1 div.sk-serial {display: flex;flex-direction: column;align-items: center;background-color: white;padding-right: 0.2em;padding-left: 0.2em;position: relative;}#sk-container-id-1 div.sk-item {position: relative;z-index: 1;}#sk-container-id-1 div.sk-parallel {display: flex;align-items: stretch;justify-content: center;background-color: white;position: relative;}#sk-container-id-1 div.sk-item::before, #sk-container-id-1 div.sk-parallel-item::before {content: \"\";position: absolute;border-left: 1px solid gray;box-sizing: border-box;top: 0;bottom: 0;left: 50%;z-index: -1;}#sk-container-id-1 div.sk-parallel-item {display: flex;flex-direction: column;z-index: 1;position: relative;background-color: white;}#sk-container-id-1 div.sk-parallel-item:first-child::after {align-self: flex-end;width: 50%;}#sk-container-id-1 div.sk-parallel-item:last-child::after {align-self: flex-start;width: 50%;}#sk-container-id-1 div.sk-parallel-item:only-child::after {width: 0;}#sk-container-id-1 div.sk-dashed-wrapped {border: 1px dashed gray;margin: 0 0.4em 0.5em 0.4em;box-sizing: border-box;padding-bottom: 0.4em;background-color: white;}#sk-container-id-1 div.sk-label label {font-family: monospace;font-weight: bold;display: inline-block;line-height: 1.2em;}#sk-container-id-1 div.sk-label-container {text-align: center;}#sk-container-id-1 div.sk-container {/* jupyter's `normalize.less` sets `[hidden] { display: none; }` but bootstrap.min.css set `[hidden] { display: none !important; }` so we also need the `!important` here to be able to override the default hidden behavior on the sphinx rendered scikit-learn.org. See: https://github.com/scikit-learn/scikit-learn/issues/21755 */display: inline-block !important;position: relative;}#sk-container-id-1 div.sk-text-repr-fallback {display: none;}</style><div id=\"sk-container-id-1\" class=\"sk-top-container\"><div class=\"sk-text-repr-fallback\"><pre>LinearRegression()</pre><b>In a Jupyter environment, please rerun this cell to show the HTML representation or trust the notebook. <br />On GitHub, the HTML representation is unable to render, please try loading this page with nbviewer.org.</b></div><div class=\"sk-container\" hidden><div class=\"sk-item\"><div class=\"sk-estimator sk-toggleable\"><input class=\"sk-toggleable__control sk-hidden--visually\" id=\"sk-estimator-id-1\" type=\"checkbox\" checked><label for=\"sk-estimator-id-1\" class=\"sk-toggleable__label sk-toggleable__label-arrow\">LinearRegression</label><div class=\"sk-toggleable__content\"><pre>LinearRegression()</pre></div></div></div></div></div>"
      ],
      "text/plain": [
       "LinearRegression()"
      ]
     },
     "execution_count": 48,
     "metadata": {},
     "output_type": "execute_result"
    }
   ],
   "source": [
    "from sklearn.linear_model import LinearRegression\n",
    "regression = LinearRegression()\n",
    "regression.fit(X_train_norm,Y_train.dropna())"
   ]
  },
  {
   "cell_type": "code",
   "execution_count": 49,
   "metadata": {
    "execution": {
     "iopub.execute_input": "2024-12-23T20:02:11.808669Z",
     "iopub.status.busy": "2024-12-23T20:02:11.808272Z",
     "iopub.status.idle": "2024-12-23T20:02:11.817196Z",
     "shell.execute_reply": "2024-12-23T20:02:11.816176Z",
     "shell.execute_reply.started": "2024-12-23T20:02:11.808630Z"
    },
    "trusted": true
   },
   "outputs": [
    {
     "name": "stdout",
     "output_type": "stream",
     "text": [
      "[[ 6.09174647e-01 -1.05225114e-16  1.57588256e-16  2.63048952e-16\n",
      "   1.43009150e-16 -2.97074694e-31 -8.97784481e-17  2.11601675e-16\n",
      "  -6.18064441e-18  2.16834690e-16  8.39402408e-17 -1.02722067e-16\n",
      "  -1.72736720e-16 -1.52925467e-16  5.44071174e-17]\n",
      " [-8.32860306e-16  7.90569415e-01  3.88578059e-16  1.49880108e-15\n",
      "   9.71445147e-17  4.16333634e-16 -1.31838984e-15  1.16573418e-15\n",
      "   6.10622664e-16 -8.88178420e-16 -3.74700271e-16  4.99600361e-16\n",
      "  -7.07767178e-16 -2.77555756e-16  1.55431223e-15]\n",
      " [ 1.02920696e-15  6.38378239e-16  8.66025404e-01 -4.71844785e-16\n",
      "  -1.89084859e-16 -4.57966998e-16  7.77156117e-16 -2.67147415e-16\n",
      "  -4.57966998e-16 -4.89192020e-16  3.50414142e-16 -4.85722573e-17\n",
      "  -3.57353036e-16  3.95516953e-16 -4.09394740e-16]\n",
      " [-3.97794688e-17  4.44089210e-16 -6.24500451e-17  5.82961191e-01\n",
      "  -4.51028104e-17 -1.19348975e-15  3.92047506e-16 -2.63677968e-16\n",
      "   4.71844785e-16  1.31838984e-16 -8.32667268e-17 -9.71445147e-17\n",
      "  -8.32667268e-17  1.94289029e-16 -2.35922393e-16]\n",
      " [-1.44022260e-16 -1.80411242e-16 -2.11636264e-16  3.46944695e-16\n",
      "   6.34305723e-01  5.06539255e-16 -1.66533454e-16 -1.14491749e-16\n",
      "   3.19189120e-16 -6.24500451e-17 -1.28369537e-16 -3.00107161e-16\n",
      "   1.57859836e-16  2.49800181e-16 -2.77555756e-17]\n",
      " [ 0.00000000e+00  0.00000000e+00  0.00000000e+00  0.00000000e+00\n",
      "   0.00000000e+00  0.00000000e+00  0.00000000e+00  0.00000000e+00\n",
      "   0.00000000e+00  0.00000000e+00  0.00000000e+00  0.00000000e+00\n",
      "   0.00000000e+00  0.00000000e+00  0.00000000e+00]\n",
      " [-2.00935181e-16  4.36538556e-18 -2.87843812e-17  3.50531109e-16\n",
      "   1.08353868e-16  9.02056208e-16  7.07106781e-01  1.71813619e-17\n",
      "   2.24423948e-16 -1.94088381e-16  2.11502351e-17  3.53581144e-17\n",
      "   3.89417448e-17  2.56649400e-17  1.03911704e-17]\n",
      " [-7.72333092e-16 -2.22044605e-16  6.93889390e-18  5.82867088e-16\n",
      "   3.29597460e-16 -3.95516953e-16 -1.04083409e-15  9.01387819e-01\n",
      "   1.11022302e-16 -6.38378239e-16  4.96130914e-16 -5.13478149e-16\n",
      "  -1.21430643e-16 -8.88178420e-16  6.59194921e-16]\n",
      " [ 3.72183844e-16  4.44089210e-16 -7.35522754e-16 -4.44089210e-16\n",
      "  -1.24900090e-16 -2.77555756e-16  1.19348975e-15 -6.80011603e-16\n",
      "   9.82264603e-01  4.71844785e-16  0.00000000e+00 -1.38777878e-16\n",
      "   4.99600361e-16  3.33066907e-16 -1.06858966e-15]\n",
      " [-6.44468827e-17  2.77555756e-17 -9.10729825e-17  7.97972799e-17\n",
      "   5.20417043e-18  1.24900090e-16 -2.08166817e-17 -1.12757026e-16\n",
      "   1.70002901e-16  2.42061459e-01 -4.33680869e-18 -4.94396191e-17\n",
      "   2.86229374e-17  4.16333634e-17  1.21430643e-17]\n",
      " [-4.77380897e-16  2.22044605e-16  1.04083409e-16  1.52655666e-16\n",
      "   2.60208521e-16  4.99600361e-16 -1.50920942e-16  7.97972799e-17\n",
      "   6.38378239e-16 -1.38777878e-17  9.27024811e-01  9.71445147e-17\n",
      "  -6.93889390e-17 -6.17561557e-16  6.59194921e-16]\n",
      " [ 6.63934013e-16 -6.10622664e-16  1.02695630e-15 -7.21644966e-16\n",
      "  -5.68989300e-16  2.22044605e-16  4.16333634e-16 -1.04083409e-15\n",
      "   2.77555756e-17 -4.71844785e-16 -7.63278329e-17  1.61535600e+00\n",
      "   5.48172618e-16  3.60822483e-16 -4.44089210e-16]\n",
      " [-1.24217179e-15 -7.21644966e-16 -9.29811783e-16  9.15933995e-16\n",
      "   2.70616862e-16  9.99200722e-16 -8.88178420e-16 -2.84494650e-16\n",
      "   9.71445147e-16 -5.34294831e-16  4.09394740e-16  2.70616862e-16\n",
      "   1.85299589e+00 -5.55111512e-17  1.38777878e-16]\n",
      " [ 1.01202418e-15 -4.44089210e-16  1.11022302e-16 -3.33066907e-16\n",
      "  -2.22044605e-16 -6.77236045e-15 -1.11022302e-15 -6.10622664e-16\n",
      "  -9.99200722e-16  5.55111512e-16 -5.27355937e-16  1.66533454e-16\n",
      "   8.32667268e-16  2.74928968e+00  6.66133815e-16]\n",
      " [ 0.00000000e+00  0.00000000e+00  1.60982339e-15  2.69229083e-15\n",
      "   4.16333634e-17  2.33146835e-15 -2.44249065e-15  2.35922393e-16\n",
      "  -1.11022302e-16 -3.60822483e-16  3.60822483e-16 -2.08166817e-16\n",
      "   6.10622664e-16 -3.33066907e-16  2.43669859e+00]]\n"
     ]
    }
   ],
   "source": [
    "print(regression.coef_)"
   ]
  },
  {
   "cell_type": "code",
   "execution_count": 50,
   "metadata": {
    "execution": {
     "iopub.execute_input": "2024-12-23T20:02:11.818792Z",
     "iopub.status.busy": "2024-12-23T20:02:11.818375Z",
     "iopub.status.idle": "2024-12-23T20:02:11.836683Z",
     "shell.execute_reply": "2024-12-23T20:02:11.835595Z",
     "shell.execute_reply.started": "2024-12-23T20:02:11.818752Z"
    },
    "trusted": true
   },
   "outputs": [
    {
     "data": {
      "text/plain": [
       "array([[18.,  4.,  4.,  2.,  2.,  0.,  4.,  3.,  4.,  1.,  1.,  3.,  5.,\n",
       "         5., 11.],\n",
       "       [16.,  4.,  3.,  1.,  2.,  0.,  5.,  4.,  2.,  1.,  2.,  5.,  5.,\n",
       "        15., 15.],\n",
       "       [15.,  2.,  2.,  1.,  3.,  0.,  4.,  5.,  2.,  1.,  1.,  3.,  5.,\n",
       "        14., 16.],\n",
       "       [16.,  3.,  3.,  1.,  2.,  0.,  4.,  3.,  2.,  1.,  2.,  5.,  5.,\n",
       "         6., 10.],\n",
       "       [17.,  1.,  1.,  1.,  2.,  0.,  5.,  3.,  3.,  1.,  1.,  3.,  5.,\n",
       "         5., 11.],\n",
       "       [15.,  3.,  4.,  1.,  2.,  0.,  5.,  5.,  1.,  1.,  1.,  5.,  5.,\n",
       "        14., 15.],\n",
       "       [15.,  2.,  4.,  1.,  3.,  0.,  4.,  3.,  2.,  1.,  1.,  5.,  1.,\n",
       "        10.,  9.],\n",
       "       [15.,  2.,  1.,  3.,  3.,  0.,  5.,  2.,  2.,  1.,  1.,  4.,  5.,\n",
       "        10., 12.]])"
      ]
     },
     "execution_count": 50,
     "metadata": {},
     "output_type": "execute_result"
    }
   ],
   "source": [
    "reg_predict = regression.predict(X_test_norm)\n",
    "reg_predict"
   ]
  },
  {
   "cell_type": "code",
   "execution_count": 51,
   "metadata": {
    "execution": {
     "iopub.execute_input": "2024-12-23T20:02:11.838385Z",
     "iopub.status.busy": "2024-12-23T20:02:11.837943Z",
     "iopub.status.idle": "2024-12-23T20:02:11.889853Z",
     "shell.execute_reply": "2024-12-23T20:02:11.888830Z",
     "shell.execute_reply.started": "2024-12-23T20:02:11.838348Z"
    },
    "trusted": true
   },
   "outputs": [
    {
     "data": {
      "text/html": [
       "<div>\n",
       "<style scoped>\n",
       "    .dataframe tbody tr th:only-of-type {\n",
       "        vertical-align: middle;\n",
       "    }\n",
       "\n",
       "    .dataframe tbody tr th {\n",
       "        vertical-align: top;\n",
       "    }\n",
       "\n",
       "    .dataframe thead th {\n",
       "        text-align: right;\n",
       "    }\n",
       "</style>\n",
       "<table border=\"1\" class=\"dataframe\">\n",
       "  <thead>\n",
       "    <tr style=\"text-align: right;\">\n",
       "      <th></th>\n",
       "      <th>age</th>\n",
       "      <th>Medu</th>\n",
       "      <th>Fedu</th>\n",
       "      <th>traveltime</th>\n",
       "      <th>studytime</th>\n",
       "      <th>failures</th>\n",
       "      <th>famrel</th>\n",
       "      <th>freetime</th>\n",
       "      <th>goout</th>\n",
       "      <th>Dalc</th>\n",
       "      <th>Walc</th>\n",
       "      <th>health</th>\n",
       "      <th>absences</th>\n",
       "      <th>G1</th>\n",
       "      <th>G2</th>\n",
       "    </tr>\n",
       "  </thead>\n",
       "  <tbody>\n",
       "    <tr>\n",
       "      <th>0</th>\n",
       "      <td>0.0</td>\n",
       "      <td>1.776357e-15</td>\n",
       "      <td>-1.776357e-15</td>\n",
       "      <td>-4.440892e-16</td>\n",
       "      <td>4.440892e-16</td>\n",
       "      <td>0.0</td>\n",
       "      <td>0.000000e+00</td>\n",
       "      <td>8.881784e-16</td>\n",
       "      <td>0.000000e+00</td>\n",
       "      <td>0.000000e+00</td>\n",
       "      <td>-8.881784e-16</td>\n",
       "      <td>-3.108624e-15</td>\n",
       "      <td>3.552714e-15</td>\n",
       "      <td>-2.664535e-15</td>\n",
       "      <td>-5.329071e-15</td>\n",
       "    </tr>\n",
       "    <tr>\n",
       "      <th>5</th>\n",
       "      <td>0.0</td>\n",
       "      <td>2.220446e-15</td>\n",
       "      <td>-2.220446e-15</td>\n",
       "      <td>0.000000e+00</td>\n",
       "      <td>8.881784e-16</td>\n",
       "      <td>0.0</td>\n",
       "      <td>8.881784e-16</td>\n",
       "      <td>2.664535e-15</td>\n",
       "      <td>-1.776357e-15</td>\n",
       "      <td>2.220446e-16</td>\n",
       "      <td>8.881784e-16</td>\n",
       "      <td>0.000000e+00</td>\n",
       "      <td>3.552714e-15</td>\n",
       "      <td>0.000000e+00</td>\n",
       "      <td>3.552714e-15</td>\n",
       "    </tr>\n",
       "    <tr>\n",
       "      <th>14</th>\n",
       "      <td>0.0</td>\n",
       "      <td>-4.440892e-15</td>\n",
       "      <td>2.886580e-15</td>\n",
       "      <td>1.776357e-15</td>\n",
       "      <td>0.000000e+00</td>\n",
       "      <td>0.0</td>\n",
       "      <td>0.000000e+00</td>\n",
       "      <td>-3.552714e-15</td>\n",
       "      <td>2.220446e-15</td>\n",
       "      <td>1.110223e-16</td>\n",
       "      <td>-6.661338e-16</td>\n",
       "      <td>2.664535e-15</td>\n",
       "      <td>-1.776357e-15</td>\n",
       "      <td>-1.776357e-15</td>\n",
       "      <td>0.000000e+00</td>\n",
       "    </tr>\n",
       "    <tr>\n",
       "      <th>4</th>\n",
       "      <td>0.0</td>\n",
       "      <td>2.664535e-15</td>\n",
       "      <td>-4.440892e-16</td>\n",
       "      <td>8.881784e-16</td>\n",
       "      <td>1.110223e-15</td>\n",
       "      <td>0.0</td>\n",
       "      <td>4.440892e-16</td>\n",
       "      <td>0.000000e+00</td>\n",
       "      <td>-1.776357e-15</td>\n",
       "      <td>2.220446e-16</td>\n",
       "      <td>4.440892e-16</td>\n",
       "      <td>-8.881784e-16</td>\n",
       "      <td>8.881784e-16</td>\n",
       "      <td>-2.664535e-15</td>\n",
       "      <td>1.776357e-15</td>\n",
       "    </tr>\n",
       "    <tr>\n",
       "      <th>1</th>\n",
       "      <td>0.0</td>\n",
       "      <td>3.552714e-15</td>\n",
       "      <td>-1.110223e-15</td>\n",
       "      <td>8.881784e-16</td>\n",
       "      <td>0.000000e+00</td>\n",
       "      <td>0.0</td>\n",
       "      <td>1.776357e-15</td>\n",
       "      <td>1.776357e-15</td>\n",
       "      <td>-3.552714e-15</td>\n",
       "      <td>0.000000e+00</td>\n",
       "      <td>7.771561e-16</td>\n",
       "      <td>-2.664535e-15</td>\n",
       "      <td>0.000000e+00</td>\n",
       "      <td>-1.776357e-15</td>\n",
       "      <td>8.881784e-15</td>\n",
       "    </tr>\n",
       "    <tr>\n",
       "      <th>9</th>\n",
       "      <td>0.0</td>\n",
       "      <td>-1.776357e-15</td>\n",
       "      <td>8.881784e-16</td>\n",
       "      <td>1.221245e-15</td>\n",
       "      <td>1.110223e-15</td>\n",
       "      <td>0.0</td>\n",
       "      <td>8.881784e-16</td>\n",
       "      <td>0.000000e+00</td>\n",
       "      <td>6.661338e-16</td>\n",
       "      <td>5.551115e-16</td>\n",
       "      <td>3.330669e-16</td>\n",
       "      <td>0.000000e+00</td>\n",
       "      <td>3.552714e-15</td>\n",
       "      <td>0.000000e+00</td>\n",
       "      <td>0.000000e+00</td>\n",
       "    </tr>\n",
       "    <tr>\n",
       "      <th>24</th>\n",
       "      <td>0.0</td>\n",
       "      <td>-8.881784e-16</td>\n",
       "      <td>1.776357e-15</td>\n",
       "      <td>8.881784e-16</td>\n",
       "      <td>8.881784e-16</td>\n",
       "      <td>0.0</td>\n",
       "      <td>0.000000e+00</td>\n",
       "      <td>0.000000e+00</td>\n",
       "      <td>8.881784e-16</td>\n",
       "      <td>3.330669e-16</td>\n",
       "      <td>0.000000e+00</td>\n",
       "      <td>-8.881784e-16</td>\n",
       "      <td>-2.220446e-16</td>\n",
       "      <td>0.000000e+00</td>\n",
       "      <td>3.552714e-15</td>\n",
       "    </tr>\n",
       "    <tr>\n",
       "      <th>11</th>\n",
       "      <td>0.0</td>\n",
       "      <td>-2.220446e-15</td>\n",
       "      <td>2.664535e-15</td>\n",
       "      <td>8.881784e-16</td>\n",
       "      <td>-1.332268e-15</td>\n",
       "      <td>0.0</td>\n",
       "      <td>0.000000e+00</td>\n",
       "      <td>0.000000e+00</td>\n",
       "      <td>-2.664535e-15</td>\n",
       "      <td>-4.440892e-16</td>\n",
       "      <td>-4.440892e-16</td>\n",
       "      <td>2.664535e-15</td>\n",
       "      <td>-6.217249e-15</td>\n",
       "      <td>0.000000e+00</td>\n",
       "      <td>0.000000e+00</td>\n",
       "    </tr>\n",
       "  </tbody>\n",
       "</table>\n",
       "</div>"
      ],
      "text/plain": [
       "    age          Medu          Fedu    traveltime     studytime  failures  \\\n",
       "0   0.0  1.776357e-15 -1.776357e-15 -4.440892e-16  4.440892e-16       0.0   \n",
       "5   0.0  2.220446e-15 -2.220446e-15  0.000000e+00  8.881784e-16       0.0   \n",
       "14  0.0 -4.440892e-15  2.886580e-15  1.776357e-15  0.000000e+00       0.0   \n",
       "4   0.0  2.664535e-15 -4.440892e-16  8.881784e-16  1.110223e-15       0.0   \n",
       "1   0.0  3.552714e-15 -1.110223e-15  8.881784e-16  0.000000e+00       0.0   \n",
       "9   0.0 -1.776357e-15  8.881784e-16  1.221245e-15  1.110223e-15       0.0   \n",
       "24  0.0 -8.881784e-16  1.776357e-15  8.881784e-16  8.881784e-16       0.0   \n",
       "11  0.0 -2.220446e-15  2.664535e-15  8.881784e-16 -1.332268e-15       0.0   \n",
       "\n",
       "          famrel      freetime         goout          Dalc          Walc  \\\n",
       "0   0.000000e+00  8.881784e-16  0.000000e+00  0.000000e+00 -8.881784e-16   \n",
       "5   8.881784e-16  2.664535e-15 -1.776357e-15  2.220446e-16  8.881784e-16   \n",
       "14  0.000000e+00 -3.552714e-15  2.220446e-15  1.110223e-16 -6.661338e-16   \n",
       "4   4.440892e-16  0.000000e+00 -1.776357e-15  2.220446e-16  4.440892e-16   \n",
       "1   1.776357e-15  1.776357e-15 -3.552714e-15  0.000000e+00  7.771561e-16   \n",
       "9   8.881784e-16  0.000000e+00  6.661338e-16  5.551115e-16  3.330669e-16   \n",
       "24  0.000000e+00  0.000000e+00  8.881784e-16  3.330669e-16  0.000000e+00   \n",
       "11  0.000000e+00  0.000000e+00 -2.664535e-15 -4.440892e-16 -4.440892e-16   \n",
       "\n",
       "          health      absences            G1            G2  \n",
       "0  -3.108624e-15  3.552714e-15 -2.664535e-15 -5.329071e-15  \n",
       "5   0.000000e+00  3.552714e-15  0.000000e+00  3.552714e-15  \n",
       "14  2.664535e-15 -1.776357e-15 -1.776357e-15  0.000000e+00  \n",
       "4  -8.881784e-16  8.881784e-16 -2.664535e-15  1.776357e-15  \n",
       "1  -2.664535e-15  0.000000e+00 -1.776357e-15  8.881784e-15  \n",
       "9   0.000000e+00  3.552714e-15  0.000000e+00  0.000000e+00  \n",
       "24 -8.881784e-16 -2.220446e-16  0.000000e+00  3.552714e-15  \n",
       "11  2.664535e-15 -6.217249e-15  0.000000e+00  0.000000e+00  "
      ]
     },
     "execution_count": 51,
     "metadata": {},
     "output_type": "execute_result"
    }
   ],
   "source": [
    "residual = Y_test.select_dtypes(include='float64').dropna()-reg_predict\n",
    "residual"
   ]
  },
  {
   "cell_type": "code",
   "execution_count": 52,
   "metadata": {
    "execution": {
     "iopub.execute_input": "2024-12-23T20:02:11.891099Z",
     "iopub.status.busy": "2024-12-23T20:02:11.890819Z",
     "iopub.status.idle": "2024-12-23T20:02:12.737144Z",
     "shell.execute_reply": "2024-12-23T20:02:12.736151Z",
     "shell.execute_reply.started": "2024-12-23T20:02:11.891073Z"
    },
    "trusted": true
   },
   "outputs": [
    {
     "name": "stderr",
     "output_type": "stream",
     "text": [
      "/usr/local/lib/python3.10/dist-packages/seaborn/_oldcore.py:1119: FutureWarning: use_inf_as_na option is deprecated and will be removed in a future version. Convert inf values to NaN before operating instead.\n",
      "  with pd.option_context('mode.use_inf_as_na', True):\n",
      "<ipython-input-52-7c1948a43248>:1: UserWarning: Dataset has 0 variance; skipping density estimate. Pass `warn_singular=False` to disable this warning.\n",
      "  sns.displot(residual,kind = 'kde')\n"
     ]
    },
    {
     "data": {
      "text/plain": [
       "<seaborn.axisgrid.FacetGrid at 0x7e3df06529b0>"
      ]
     },
     "execution_count": 52,
     "metadata": {},
     "output_type": "execute_result"
    },
    {
     "data": {
      "image/png": "[encoded data removed]",
      "text/plain": [
       "<Figure size 621.875x500 with 1 Axes>"
      ]
     },
     "metadata": {},
     "output_type": "display_data"
    }
   ],
   "source": [
    "sns.displot(residual,kind = 'kde')"
   ]
  },
  {
   "cell_type": "code",
   "execution_count": 101,
   "metadata": {
    "execution": {
     "iopub.execute_input": "2024-12-23T20:05:33.393377Z",
     "iopub.status.busy": "2024-12-23T20:05:33.393024Z",
     "iopub.status.idle": "2024-12-23T20:05:33.406703Z",
     "shell.execute_reply": "2024-12-23T20:05:33.405562Z",
     "shell.execute_reply.started": "2024-12-23T20:05:33.393349Z"
    },
    "trusted": true
   },
   "outputs": [
    {
     "name": "stdout",
     "output_type": "stream",
     "text": [
      "3.6100658040231354e-30\n",
      "1.195340123179752e-15\n",
      "0.9333333333333333\n"
     ]
    }
   ],
   "source": [
    "from sklearn.metrics import mean_squared_error,mean_absolute_error,r2_score\n",
    "print(mean_squared_error(Y_test.dropna(),reg_predict))\n",
    "print(mean_absolute_error(Y_test.dropna(),reg_predict))\n",
    "print(r2_score(Y_test.dropna(),reg_predict))"
   ]
  },
  {
   "cell_type": "markdown",
   "metadata": {},
   "source": [
    "> Handling Fail_1 Outliers"
   ]
  },
  {
   "cell_type": "code",
   "execution_count": 56,
   "metadata": {
    "execution": {
     "iopub.execute_input": "2024-12-23T20:02:12.785685Z",
     "iopub.status.busy": "2024-12-23T20:02:12.785296Z",
     "iopub.status.idle": "2024-12-23T20:02:12.798655Z",
     "shell.execute_reply": "2024-12-23T20:02:12.797711Z",
     "shell.execute_reply.started": "2024-12-23T20:02:12.785649Z"
    },
    "trusted": true
   },
   "outputs": [],
   "source": [
    "#Before Removing Outliers\n",
    "# fig,ax = plt.subplots(figsize = (15,15))\n",
    "# sns.boxplot(data=Fail_1,ax=ax)"
   ]
  },
  {
   "cell_type": "code",
   "execution_count": 57,
   "metadata": {
    "execution": {
     "iopub.execute_input": "2024-12-23T20:02:12.799936Z",
     "iopub.status.busy": "2024-12-23T20:02:12.799626Z",
     "iopub.status.idle": "2024-12-23T20:02:12.815066Z",
     "shell.execute_reply": "2024-12-23T20:02:12.814054Z",
     "shell.execute_reply.started": "2024-12-23T20:02:12.799899Z"
    },
    "trusted": true
   },
   "outputs": [],
   "source": [
    "# Fail_1['studytime'].value_counts()"
   ]
  },
  {
   "cell_type": "code",
   "execution_count": 58,
   "metadata": {
    "execution": {
     "iopub.execute_input": "2024-12-23T20:02:12.816382Z",
     "iopub.status.busy": "2024-12-23T20:02:12.816027Z",
     "iopub.status.idle": "2024-12-23T20:02:12.831623Z",
     "shell.execute_reply": "2024-12-23T20:02:12.830582Z",
     "shell.execute_reply.started": "2024-12-23T20:02:12.816346Z"
    },
    "trusted": true
   },
   "outputs": [],
   "source": [
    "# Studytime_mean = round(Fail_1['studytime'].mean())\n",
    "# Fail_1['studytime']=Fail_1['studytime'].replace(4,Studytime_mean)"
   ]
  },
  {
   "cell_type": "code",
   "execution_count": 59,
   "metadata": {
    "execution": {
     "iopub.execute_input": "2024-12-23T20:02:12.832986Z",
     "iopub.status.busy": "2024-12-23T20:02:12.832648Z",
     "iopub.status.idle": "2024-12-23T20:02:12.848643Z",
     "shell.execute_reply": "2024-12-23T20:02:12.847571Z",
     "shell.execute_reply.started": "2024-12-23T20:02:12.832943Z"
    },
    "trusted": true
   },
   "outputs": [],
   "source": [
    "# Fail_1['famrel'].value_counts()"
   ]
  },
  {
   "cell_type": "code",
   "execution_count": 60,
   "metadata": {
    "execution": {
     "iopub.execute_input": "2024-12-23T20:02:12.850133Z",
     "iopub.status.busy": "2024-12-23T20:02:12.849718Z",
     "iopub.status.idle": "2024-12-23T20:02:12.865382Z",
     "shell.execute_reply": "2024-12-23T20:02:12.864325Z",
     "shell.execute_reply.started": "2024-12-23T20:02:12.850098Z"
    },
    "trusted": true
   },
   "outputs": [],
   "source": [
    "# famrel_mean = round(Fail_1['famrel'].mean())\n",
    "# Fail_1['famrel']=Fail_1['famrel'].apply(lambda x:x if x==famrel_mean else famrel_mean)"
   ]
  },
  {
   "cell_type": "code",
   "execution_count": 61,
   "metadata": {
    "execution": {
     "iopub.execute_input": "2024-12-23T20:02:12.866800Z",
     "iopub.status.busy": "2024-12-23T20:02:12.866457Z",
     "iopub.status.idle": "2024-12-23T20:02:12.880472Z",
     "shell.execute_reply": "2024-12-23T20:02:12.879463Z",
     "shell.execute_reply.started": "2024-12-23T20:02:12.866774Z"
    },
    "trusted": true
   },
   "outputs": [],
   "source": [
    "# famrel_mean = round(Fail_1['famrel'].mean())\n",
    "# Fail_1['famrel']=Fail_1['famrel'].apply(lambda x:x if x==famrel_mean else famrel_mean)"
   ]
  },
  {
   "cell_type": "code",
   "execution_count": 62,
   "metadata": {
    "execution": {
     "iopub.execute_input": "2024-12-23T20:02:12.881810Z",
     "iopub.status.busy": "2024-12-23T20:02:12.881478Z",
     "iopub.status.idle": "2024-12-23T20:02:12.899850Z",
     "shell.execute_reply": "2024-12-23T20:02:12.898756Z",
     "shell.execute_reply.started": "2024-12-23T20:02:12.881779Z"
    },
    "trusted": true
   },
   "outputs": [],
   "source": [
    "# Fail_1['freetime'].value_counts()"
   ]
  },
  {
   "cell_type": "code",
   "execution_count": 63,
   "metadata": {
    "execution": {
     "iopub.execute_input": "2024-12-23T20:02:12.901795Z",
     "iopub.status.busy": "2024-12-23T20:02:12.901315Z",
     "iopub.status.idle": "2024-12-23T20:02:12.915555Z",
     "shell.execute_reply": "2024-12-23T20:02:12.914585Z",
     "shell.execute_reply.started": "2024-12-23T20:02:12.901727Z"
    },
    "trusted": true
   },
   "outputs": [],
   "source": [
    "# Freetime_mean = round(Fail_1['freetime'].mean())\n",
    "# Fail_1['freetime']=Fail_1['freetime'].replace(1,Freetime_mean)"
   ]
  },
  {
   "cell_type": "code",
   "execution_count": 64,
   "metadata": {
    "execution": {
     "iopub.execute_input": "2024-12-23T20:02:12.916974Z",
     "iopub.status.busy": "2024-12-23T20:02:12.916644Z",
     "iopub.status.idle": "2024-12-23T20:02:12.930371Z",
     "shell.execute_reply": "2024-12-23T20:02:12.929336Z",
     "shell.execute_reply.started": "2024-12-23T20:02:12.916945Z"
    },
    "trusted": true
   },
   "outputs": [],
   "source": [
    "# Fail_1['absences'].value_counts()"
   ]
  },
  {
   "cell_type": "code",
   "execution_count": 65,
   "metadata": {
    "execution": {
     "iopub.execute_input": "2024-12-23T20:02:12.931802Z",
     "iopub.status.busy": "2024-12-23T20:02:12.931428Z",
     "iopub.status.idle": "2024-12-23T20:02:12.945257Z",
     "shell.execute_reply": "2024-12-23T20:02:12.944229Z",
     "shell.execute_reply.started": "2024-12-23T20:02:12.931767Z"
    },
    "trusted": true
   },
   "outputs": [],
   "source": [
    "# Absences_Mean = round(Fail_1['absences'].mean())\n",
    "# Fail_1['absences'] = Fail_1['absences'].apply(lambda x:x if x<30 else Absences_Mean)"
   ]
  },
  {
   "cell_type": "code",
   "execution_count": 66,
   "metadata": {
    "execution": {
     "iopub.execute_input": "2024-12-23T20:02:12.946565Z",
     "iopub.status.busy": "2024-12-23T20:02:12.946258Z",
     "iopub.status.idle": "2024-12-23T20:02:12.960971Z",
     "shell.execute_reply": "2024-12-23T20:02:12.959944Z",
     "shell.execute_reply.started": "2024-12-23T20:02:12.946540Z"
    },
    "trusted": true
   },
   "outputs": [],
   "source": [
    "# Fail_1['Dalc'].value_counts()"
   ]
  },
  {
   "cell_type": "code",
   "execution_count": 67,
   "metadata": {
    "execution": {
     "iopub.execute_input": "2024-12-23T20:02:12.962307Z",
     "iopub.status.busy": "2024-12-23T20:02:12.961979Z",
     "iopub.status.idle": "2024-12-23T20:02:12.975405Z",
     "shell.execute_reply": "2024-12-23T20:02:12.974319Z",
     "shell.execute_reply.started": "2024-12-23T20:02:12.962252Z"
    },
    "trusted": true
   },
   "outputs": [],
   "source": [
    "# Dalc_Mean = round(Fail_1['Dalc'].mean())\n",
    "# Fail_1['Dalc'] = Fail_1['Dalc'].apply(lambda x:x if x<4 else Dalc_Mean)"
   ]
  },
  {
   "cell_type": "code",
   "execution_count": 68,
   "metadata": {
    "execution": {
     "iopub.execute_input": "2024-12-23T20:02:12.976896Z",
     "iopub.status.busy": "2024-12-23T20:02:12.976401Z",
     "iopub.status.idle": "2024-12-23T20:02:12.990261Z",
     "shell.execute_reply": "2024-12-23T20:02:12.989236Z",
     "shell.execute_reply.started": "2024-12-23T20:02:12.976841Z"
    },
    "trusted": true
   },
   "outputs": [],
   "source": [
    "#After Removing Outliers\n",
    "# fig,ax = plt.subplots(figsize = (15,15))\n",
    "# sns.boxplot(data=Fail_1,ax=ax)"
   ]
  },
  {
   "cell_type": "code",
   "execution_count": 69,
   "metadata": {
    "execution": {
     "iopub.execute_input": "2024-12-23T20:02:12.991731Z",
     "iopub.status.busy": "2024-12-23T20:02:12.991383Z",
     "iopub.status.idle": "2024-12-23T20:02:13.005418Z",
     "shell.execute_reply": "2024-12-23T20:02:13.004377Z",
     "shell.execute_reply.started": "2024-12-23T20:02:12.991696Z"
    },
    "trusted": true
   },
   "outputs": [],
   "source": [
    "# fig,ax = plt.subplots(figsize = (15,15))\n",
    "# sns.boxplot(data=Fail_2,ax=ax)"
   ]
  },
  {
   "cell_type": "code",
   "execution_count": 70,
   "metadata": {
    "execution": {
     "iopub.execute_input": "2024-12-23T20:02:13.006788Z",
     "iopub.status.busy": "2024-12-23T20:02:13.006418Z",
     "iopub.status.idle": "2024-12-23T20:02:13.025481Z",
     "shell.execute_reply": "2024-12-23T20:02:13.024405Z",
     "shell.execute_reply.started": "2024-12-23T20:02:13.006750Z"
    },
    "trusted": true
   },
   "outputs": [],
   "source": [
    "# sns.displot(data = Fail_1,kind='kde')"
   ]
  },
  {
   "cell_type": "code",
   "execution_count": 71,
   "metadata": {
    "execution": {
     "iopub.execute_input": "2024-12-23T20:02:13.027022Z",
     "iopub.status.busy": "2024-12-23T20:02:13.026636Z",
     "iopub.status.idle": "2024-12-23T20:02:13.043483Z",
     "shell.execute_reply": "2024-12-23T20:02:13.042453Z",
     "shell.execute_reply.started": "2024-12-23T20:02:13.026994Z"
    },
    "trusted": true
   },
   "outputs": [],
   "source": [
    "# sns.displot(data = Fail_2,kind='kde')"
   ]
  },
  {
   "cell_type": "code",
   "execution_count": 72,
   "metadata": {
    "execution": {
     "iopub.execute_input": "2024-12-23T20:02:13.045177Z",
     "iopub.status.busy": "2024-12-23T20:02:13.044708Z",
     "iopub.status.idle": "2024-12-23T20:02:13.061302Z",
     "shell.execute_reply": "2024-12-23T20:02:13.060307Z",
     "shell.execute_reply.started": "2024-12-23T20:02:13.045136Z"
    },
    "trusted": true
   },
   "outputs": [],
   "source": [
    "# fig,ax = plt.subplots(figsize = (15,15))\n",
    "# sns.boxplot(data=Fail_3,ax=ax)"
   ]
  },
  {
   "cell_type": "code",
   "execution_count": 73,
   "metadata": {
    "execution": {
     "iopub.execute_input": "2024-12-23T20:02:13.062681Z",
     "iopub.status.busy": "2024-12-23T20:02:13.062338Z",
     "iopub.status.idle": "2024-12-23T20:02:13.078964Z",
     "shell.execute_reply": "2024-12-23T20:02:13.077955Z",
     "shell.execute_reply.started": "2024-12-23T20:02:13.062644Z"
    },
    "trusted": true
   },
   "outputs": [],
   "source": [
    "# sns.displot(data = Fail_3,kind='kde')"
   ]
  },
  {
   "cell_type": "code",
   "execution_count": 74,
   "metadata": {
    "execution": {
     "iopub.execute_input": "2024-12-23T20:02:13.080416Z",
     "iopub.status.busy": "2024-12-23T20:02:13.080040Z",
     "iopub.status.idle": "2024-12-23T20:02:13.095085Z",
     "shell.execute_reply": "2024-12-23T20:02:13.094013Z",
     "shell.execute_reply.started": "2024-12-23T20:02:13.080378Z"
    },
    "trusted": true
   },
   "outputs": [],
   "source": [
    "# d = data.select_dtypes(include='int')\n",
    "# d.corr()"
   ]
  },
  {
   "cell_type": "code",
   "execution_count": 75,
   "metadata": {
    "execution": {
     "iopub.execute_input": "2024-12-23T20:02:13.096525Z",
     "iopub.status.busy": "2024-12-23T20:02:13.096158Z",
     "iopub.status.idle": "2024-12-23T20:02:13.111354Z",
     "shell.execute_reply": "2024-12-23T20:02:13.110384Z",
     "shell.execute_reply.started": "2024-12-23T20:02:13.096482Z"
    },
    "trusted": true
   },
   "outputs": [],
   "source": [
    "# sns.pairplot(data.select_dtypes(include='int'))"
   ]
  },
  {
   "cell_type": "code",
   "execution_count": null,
   "metadata": {
    "trusted": true
   },
   "outputs": [],
   "source": []
  },
  {
   "cell_type": "code",
   "execution_count": null,
   "metadata": {
    "trusted": true
   },
   "outputs": [],
   "source": []
  },
  {
   "cell_type": "code",
   "execution_count": null,
   "metadata": {
    "trusted": true
   },
   "outputs": [],
   "source": []
  },
  {
   "cell_type": "code",
   "execution_count": null,
   "metadata": {
    "trusted": true
   },
   "outputs": [],
   "source": []
  },
  {
   "cell_type": "code",
   "execution_count": null,
   "metadata": {
    "trusted": true
   },
   "outputs": [],
   "source": []
  },
  {
   "cell_type": "code",
   "execution_count": null,
   "metadata": {
    "trusted": true
   },
   "outputs": [],
   "source": []
  },
  {
   "cell_type": "code",
   "execution_count": null,
   "metadata": {
    "trusted": true
   },
   "outputs": [],
   "source": []
  },
  {
   "cell_type": "code",
   "execution_count": null,
   "metadata": {
    "trusted": true
   },
   "outputs": [],
   "source": []
  },
  {
   "cell_type": "code",
   "execution_count": null,
   "metadata": {
    "trusted": true
   },
   "outputs": [],
   "source": []
  },
  {
   "cell_type": "code",
   "execution_count": null,
   "metadata": {
    "trusted": true
   },
   "outputs": [],
   "source": []
  },
  {
   "cell_type": "code",
   "execution_count": null,
   "metadata": {
    "trusted": true
   },
   "outputs": [],
   "source": []
  },
  {
   "cell_type": "code",
   "execution_count": null,
   "metadata": {
    "trusted": true
   },
   "outputs": [],
   "source": []
  },
  {
   "cell_type": "code",
   "execution_count": null,
   "metadata": {
    "trusted": true
   },
   "outputs": [],
   "source": []
  },
  {
   "cell_type": "code",
   "execution_count": null,
   "metadata": {
    "trusted": true
   },
   "outputs": [],
   "source": []
  },
  {
   "cell_type": "markdown",
   "metadata": {},
   "source": [
    "> **Fail_1 Linear Regression**"
   ]
  },
  {
   "cell_type": "code",
   "execution_count": 76,
   "metadata": {
    "execution": {
     "iopub.execute_input": "2024-12-23T20:02:13.112714Z",
     "iopub.status.busy": "2024-12-23T20:02:13.112311Z",
     "iopub.status.idle": "2024-12-23T20:02:13.126763Z",
     "shell.execute_reply": "2024-12-23T20:02:13.125749Z",
     "shell.execute_reply.started": "2024-12-23T20:02:13.112676Z"
    },
    "trusted": true
   },
   "outputs": [],
   "source": [
    "# fail_1_X =  Fail_1.iloc[:,:-1]\n",
    "# fail_1_Y = Fail_1.iloc[:,:-1]"
   ]
  },
  {
   "cell_type": "code",
   "execution_count": 77,
   "metadata": {
    "execution": {
     "iopub.execute_input": "2024-12-23T20:02:13.128213Z",
     "iopub.status.busy": "2024-12-23T20:02:13.127819Z",
     "iopub.status.idle": "2024-12-23T20:02:13.142487Z",
     "shell.execute_reply": "2024-12-23T20:02:13.141414Z",
     "shell.execute_reply.started": "2024-12-23T20:02:13.128176Z"
    },
    "trusted": true
   },
   "outputs": [],
   "source": [
    "# from sklearn.model_selection import train_test_split\n",
    "# X_train,X_test,Y_train,Y_test=train_test_split(fail_1_X,fail_1_Y,test_size=0.25,random_state=42)"
   ]
  },
  {
   "cell_type": "code",
   "execution_count": 78,
   "metadata": {
    "execution": {
     "iopub.execute_input": "2024-12-23T20:02:13.144020Z",
     "iopub.status.busy": "2024-12-23T20:02:13.143538Z",
     "iopub.status.idle": "2024-12-23T20:02:13.156909Z",
     "shell.execute_reply": "2024-12-23T20:02:13.155687Z",
     "shell.execute_reply.started": "2024-12-23T20:02:13.143978Z"
    },
    "trusted": true
   },
   "outputs": [],
   "source": [
    "# from sklearn.preprocessing import StandardScaler\n",
    "# # from sklearn.preprocessing import StandardScaler\n",
    "\n",
    "# scaler =  StandardScaler()\n",
    "# X_train_norm = scaler.fit_transform(X_train.select_dtypes(include=\"float64\"))"
   ]
  },
  {
   "cell_type": "code",
   "execution_count": 79,
   "metadata": {
    "execution": {
     "iopub.execute_input": "2024-12-23T20:02:13.158322Z",
     "iopub.status.busy": "2024-12-23T20:02:13.157932Z",
     "iopub.status.idle": "2024-12-23T20:02:13.174424Z",
     "shell.execute_reply": "2024-12-23T20:02:13.173142Z",
     "shell.execute_reply.started": "2024-12-23T20:02:13.158251Z"
    },
    "trusted": true
   },
   "outputs": [],
   "source": [
    "# X_test_norm=scaler.transform(X_test.select_dtypes(include='float64'))"
   ]
  },
  {
   "cell_type": "code",
   "execution_count": 80,
   "metadata": {
    "execution": {
     "iopub.execute_input": "2024-12-23T20:02:13.176024Z",
     "iopub.status.busy": "2024-12-23T20:02:13.175558Z",
     "iopub.status.idle": "2024-12-23T20:02:13.191489Z",
     "shell.execute_reply": "2024-12-23T20:02:13.190421Z",
     "shell.execute_reply.started": "2024-12-23T20:02:13.175984Z"
    },
    "trusted": true
   },
   "outputs": [],
   "source": [
    "# fig,ax = plt.subplots(figsize = (15,15))\n",
    "# sns.boxplot(data=X_train_norm,ax=ax)"
   ]
  },
  {
   "cell_type": "code",
   "execution_count": 81,
   "metadata": {
    "execution": {
     "iopub.execute_input": "2024-12-23T20:02:13.192915Z",
     "iopub.status.busy": "2024-12-23T20:02:13.192534Z",
     "iopub.status.idle": "2024-12-23T20:02:13.206894Z",
     "shell.execute_reply": "2024-12-23T20:02:13.205898Z",
     "shell.execute_reply.started": "2024-12-23T20:02:13.192841Z"
    },
    "trusted": true
   },
   "outputs": [],
   "source": [
    "# fig,ax = plt.subplots(figsize = (15,15))\n",
    "# sns.boxplot(data=X_test_norm,ax=ax)"
   ]
  },
  {
   "cell_type": "code",
   "execution_count": 82,
   "metadata": {
    "execution": {
     "iopub.execute_input": "2024-12-23T20:02:13.215788Z",
     "iopub.status.busy": "2024-12-23T20:02:13.215429Z",
     "iopub.status.idle": "2024-12-23T20:02:13.225704Z",
     "shell.execute_reply": "2024-12-23T20:02:13.224542Z",
     "shell.execute_reply.started": "2024-12-23T20:02:13.215751Z"
    },
    "trusted": true
   },
   "outputs": [],
   "source": [
    "# from sklearn.linear_model import LinearRegression\n",
    "# regression = LinearRegression()\n",
    "# regression.fit(X_train_norm,Y_train.select_dtypes(include=\"float64\"))"
   ]
  },
  {
   "cell_type": "code",
   "execution_count": 83,
   "metadata": {
    "execution": {
     "iopub.execute_input": "2024-12-23T20:02:13.227598Z",
     "iopub.status.busy": "2024-12-23T20:02:13.227268Z",
     "iopub.status.idle": "2024-12-23T20:02:13.240408Z",
     "shell.execute_reply": "2024-12-23T20:02:13.239423Z",
     "shell.execute_reply.started": "2024-12-23T20:02:13.227563Z"
    },
    "trusted": true
   },
   "outputs": [],
   "source": [
    "# reg_predict = regression.predict(X_test_norm)\n",
    "# reg_predict"
   ]
  },
  {
   "cell_type": "code",
   "execution_count": 84,
   "metadata": {
    "execution": {
     "iopub.execute_input": "2024-12-23T20:02:13.241752Z",
     "iopub.status.busy": "2024-12-23T20:02:13.241437Z",
     "iopub.status.idle": "2024-12-23T20:02:13.259545Z",
     "shell.execute_reply": "2024-12-23T20:02:13.258508Z",
     "shell.execute_reply.started": "2024-12-23T20:02:13.241726Z"
    },
    "trusted": true
   },
   "outputs": [],
   "source": [
    "# print(regression.coef_)"
   ]
  },
  {
   "cell_type": "code",
   "execution_count": 85,
   "metadata": {
    "execution": {
     "iopub.execute_input": "2024-12-23T20:02:13.261134Z",
     "iopub.status.busy": "2024-12-23T20:02:13.260718Z",
     "iopub.status.idle": "2024-12-23T20:02:13.276057Z",
     "shell.execute_reply": "2024-12-23T20:02:13.274719Z",
     "shell.execute_reply.started": "2024-12-23T20:02:13.261096Z"
    },
    "trusted": true
   },
   "outputs": [],
   "source": [
    "# residual = Y_test.select_dtypes(include='float64')-reg_predict\n",
    "# residual"
   ]
  },
  {
   "cell_type": "code",
   "execution_count": 86,
   "metadata": {
    "execution": {
     "iopub.execute_input": "2024-12-23T20:02:13.277596Z",
     "iopub.status.busy": "2024-12-23T20:02:13.277147Z",
     "iopub.status.idle": "2024-12-23T20:02:13.292134Z",
     "shell.execute_reply": "2024-12-23T20:02:13.291048Z",
     "shell.execute_reply.started": "2024-12-23T20:02:13.277554Z"
    },
    "trusted": true
   },
   "outputs": [],
   "source": [
    "# sns.displot(residual,kind = 'kde')"
   ]
  },
  {
   "cell_type": "code",
   "execution_count": 87,
   "metadata": {
    "execution": {
     "iopub.execute_input": "2024-12-23T20:02:13.293619Z",
     "iopub.status.busy": "2024-12-23T20:02:13.293165Z",
     "iopub.status.idle": "2024-12-23T20:02:13.309041Z",
     "shell.execute_reply": "2024-12-23T20:02:13.307886Z",
     "shell.execute_reply.started": "2024-12-23T20:02:13.293514Z"
    },
    "trusted": true
   },
   "outputs": [],
   "source": [
    "# from sklearn.metrics import mean_squared_error,mean_absolute_error,r2_score\n",
    "# print(mean_squared_error(Y_test.select_dtypes(include='float64'),reg_predict))\n",
    "# print(mean_absolute_error(Y_test.select_dtypes(include='float64'),reg_predict))\n",
    "# print(r2_score(Y_test.select_dtypes(include='float64'),reg_predict))"
   ]
  },
  {
   "cell_type": "code",
   "execution_count": 88,
   "metadata": {
    "execution": {
     "iopub.execute_input": "2024-12-23T20:02:13.310369Z",
     "iopub.status.busy": "2024-12-23T20:02:13.310012Z",
     "iopub.status.idle": "2024-12-23T20:02:13.322934Z",
     "shell.execute_reply": "2024-12-23T20:02:13.321991Z",
     "shell.execute_reply.started": "2024-12-23T20:02:13.310335Z"
    },
    "trusted": true
   },
   "outputs": [],
   "source": [
    "# fig,ax = plt.subplots(figsize = (15,15))\n",
    "# sns.boxplot(data=X_test_norm,ax=ax)"
   ]
  },
  {
   "cell_type": "code",
   "execution_count": 89,
   "metadata": {
    "execution": {
     "iopub.execute_input": "2024-12-23T20:02:13.323974Z",
     "iopub.status.busy": "2024-12-23T20:02:13.323690Z",
     "iopub.status.idle": "2024-12-23T20:02:13.339657Z",
     "shell.execute_reply": "2024-12-23T20:02:13.338645Z",
     "shell.execute_reply.started": "2024-12-23T20:02:13.323943Z"
    },
    "trusted": true
   },
   "outputs": [],
   "source": [
    "# data['paid'].value_counts()"
   ]
  },
  {
   "cell_type": "code",
   "execution_count": 90,
   "metadata": {
    "execution": {
     "iopub.execute_input": "2024-12-23T20:02:13.341027Z",
     "iopub.status.busy": "2024-12-23T20:02:13.340670Z",
     "iopub.status.idle": "2024-12-23T20:02:13.355193Z",
     "shell.execute_reply": "2024-12-23T20:02:13.354124Z",
     "shell.execute_reply.started": "2024-12-23T20:02:13.340991Z"
    },
    "trusted": true
   },
   "outputs": [],
   "source": [
    "# Fail_0.where(data['paid']=='no').dropna()"
   ]
  },
  {
   "cell_type": "markdown",
   "metadata": {},
   "source": [
    "> **In the above dataframe we can see that the students didn't paid their fees but they haven't failed in any subjects so we should try to help them**"
   ]
  },
  {
   "cell_type": "code",
   "execution_count": 91,
   "metadata": {
    "execution": {
     "iopub.execute_input": "2024-12-23T20:02:13.356552Z",
     "iopub.status.busy": "2024-12-23T20:02:13.356179Z",
     "iopub.status.idle": "2024-12-23T20:02:13.369190Z",
     "shell.execute_reply": "2024-12-23T20:02:13.368105Z",
     "shell.execute_reply.started": "2024-12-23T20:02:13.356509Z"
    },
    "trusted": true
   },
   "outputs": [],
   "source": [
    "# Fail_0.where(data['paid']=='yes').dropna()"
   ]
  },
  {
   "cell_type": "code",
   "execution_count": 92,
   "metadata": {
    "execution": {
     "iopub.execute_input": "2024-12-23T20:02:13.370648Z",
     "iopub.status.busy": "2024-12-23T20:02:13.370164Z",
     "iopub.status.idle": "2024-12-23T20:02:13.383221Z",
     "shell.execute_reply": "2024-12-23T20:02:13.382222Z",
     "shell.execute_reply.started": "2024-12-23T20:02:13.370601Z"
    },
    "trusted": true
   },
   "outputs": [],
   "source": [
    "# Fail_1.where(data['paid']=='no').dropna()"
   ]
  },
  {
   "cell_type": "markdown",
   "metadata": {},
   "source": [
    "> **These Students failed in one subject and didn't paid the fees also we should talk to them and try understand their situations and help them**"
   ]
  },
  {
   "cell_type": "code",
   "execution_count": 93,
   "metadata": {
    "execution": {
     "iopub.execute_input": "2024-12-23T20:02:13.384778Z",
     "iopub.status.busy": "2024-12-23T20:02:13.384365Z",
     "iopub.status.idle": "2024-12-23T20:02:13.400774Z",
     "shell.execute_reply": "2024-12-23T20:02:13.399400Z",
     "shell.execute_reply.started": "2024-12-23T20:02:13.384741Z"
    },
    "trusted": true
   },
   "outputs": [],
   "source": [
    "# Fail_1.where(data['paid']=='yes').dropna()"
   ]
  },
  {
   "cell_type": "markdown",
   "metadata": {},
   "source": [
    "> **These students need to be counciled so that we can help them so that they can perform better in comming exams**"
   ]
  },
  {
   "cell_type": "code",
   "execution_count": 94,
   "metadata": {
    "execution": {
     "iopub.execute_input": "2024-12-23T20:02:13.402723Z",
     "iopub.status.busy": "2024-12-23T20:02:13.402325Z",
     "iopub.status.idle": "2024-12-23T20:02:13.417570Z",
     "shell.execute_reply": "2024-12-23T20:02:13.416390Z",
     "shell.execute_reply.started": "2024-12-23T20:02:13.402680Z"
    },
    "trusted": true
   },
   "outputs": [],
   "source": [
    "# Fail_2.where(data['paid']=='no').dropna()"
   ]
  },
  {
   "cell_type": "markdown",
   "metadata": {},
   "source": [
    "> **These Students didn't paid the fees and also failed in two subjects there might be somw serious issue which we need to find out **"
   ]
  },
  {
   "cell_type": "code",
   "execution_count": 95,
   "metadata": {
    "execution": {
     "iopub.execute_input": "2024-12-23T20:02:13.419035Z",
     "iopub.status.busy": "2024-12-23T20:02:13.418635Z",
     "iopub.status.idle": "2024-12-23T20:02:13.432091Z",
     "shell.execute_reply": "2024-12-23T20:02:13.431053Z",
     "shell.execute_reply.started": "2024-12-23T20:02:13.418998Z"
    },
    "trusted": true
   },
   "outputs": [],
   "source": [
    "# Fail_2.where(data['paid']=='yes').dropna()"
   ]
  },
  {
   "cell_type": "code",
   "execution_count": 96,
   "metadata": {
    "execution": {
     "iopub.execute_input": "2024-12-23T20:02:13.433645Z",
     "iopub.status.busy": "2024-12-23T20:02:13.433211Z",
     "iopub.status.idle": "2024-12-23T20:02:13.446622Z",
     "shell.execute_reply": "2024-12-23T20:02:13.445619Z",
     "shell.execute_reply.started": "2024-12-23T20:02:13.433608Z"
    },
    "trusted": true
   },
   "outputs": [],
   "source": [
    "# Fail_3.where(data['paid']=='no').dropna()"
   ]
  },
  {
   "cell_type": "code",
   "execution_count": 97,
   "metadata": {
    "execution": {
     "iopub.execute_input": "2024-12-23T20:02:13.448824Z",
     "iopub.status.busy": "2024-12-23T20:02:13.448465Z",
     "iopub.status.idle": "2024-12-23T20:02:13.461373Z",
     "shell.execute_reply": "2024-12-23T20:02:13.460316Z",
     "shell.execute_reply.started": "2024-12-23T20:02:13.448789Z"
    },
    "trusted": true
   },
   "outputs": [],
   "source": [
    "# Fail_3.where(data['paid']=='yes').dropna()"
   ]
  },
  {
   "cell_type": "markdown",
   "metadata": {},
   "source": [
    "> **All the students in above three datasets are need to be counciled so that we can find out why they all are failing they all are at a very bad position**> "
   ]
  },
  {
   "cell_type": "code",
   "execution_count": 98,
   "metadata": {
    "execution": {
     "iopub.execute_input": "2024-12-23T20:02:13.462752Z",
     "iopub.status.busy": "2024-12-23T20:02:13.462368Z",
     "iopub.status.idle": "2024-12-23T20:02:13.476731Z",
     "shell.execute_reply": "2024-12-23T20:02:13.475589Z",
     "shell.execute_reply.started": "2024-12-23T20:02:13.462716Z"
    },
    "trusted": true
   },
   "outputs": [],
   "source": [
    "# Parents_Edu = data[['Medu','Fedu','Mjob','Fjob','freetime','goout','health','absences','paid','failures']].where(data['Medu'].where(data['Fedu']>=1.0)>=1.0 ).dropna()\n",
    "# Parents_Edu"
   ]
  },
  {
   "cell_type": "code",
   "execution_count": null,
   "metadata": {
    "trusted": true
   },
   "outputs": [],
   "source": []
  }
 ],
 "metadata": {
  "kaggle": {
   "accelerator": "none",
   "dataSources": [
    {
     "datasetId": 2213802,
     "sourceId": 3700232,
     "sourceType": "datasetVersion"
    }
   ],
   "dockerImageVersionId": 30822,
   "isGpuEnabled": false,
   "isInternetEnabled": true,
   "language": "python",
   "sourceType": "notebook"
  },
  "kernelspec": {
   "display_name": "Python 3",
   "language": "python",
   "name": "python3"
  },
  "language_info": {
   "codemirror_mode": {
    "name": "ipython",
    "version": 3
   },
   "file_extension": ".py",
   "mimetype": "text/x-python",
   "name": "python",
   "nbconvert_exporter": "python",
   "pygments_lexer": "ipython3",
   "version": "3.12.8"
  }
 },
 "nbformat": 4,
 "nbformat_minor": 4
}
